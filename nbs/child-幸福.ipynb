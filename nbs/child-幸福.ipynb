{
 "cells": [
  {
   "cell_type": "code",
   "execution_count": 2,
   "id": "6c7f414e-f068-4419-9fd3-16dce9f845dd",
   "metadata": {},
   "outputs": [],
   "source": [
    "import os\n",
    "os.chdir(\"..\")\n",
    "import sys\n",
    "sys.path.append(\"process\")"
   ]
  },
  {
   "cell_type": "code",
   "execution_count": 3,
   "id": "bcddd4a5-a389-413f-8343-90eb2f36e4f5",
   "metadata": {},
   "outputs": [],
   "source": [
    "from cfps_shell import *\n",
    "from functools import partial\n",
    "pd.options.mode.chained_assignment = None "
   ]
  },
  {
   "cell_type": "markdown",
   "id": "28d80404-8351-46e2-ac81-e3c4acc9015d",
   "metadata": {},
   "source": [
    "幸福程度 （0 - 10）"
   ]
  },
  {
   "cell_type": "code",
   "execution_count": 31,
   "id": "f74f7b66-e7b6-4b6e-b831-ecdac2511c02",
   "metadata": {
    "tags": []
   },
   "outputs": [],
   "source": [
    "def get_data_for(description,year,table, provcdid, col, coefficient=1, extra_less_than = False):\n",
    "    cols = [provcdid,col]\n",
    "    if extra_less_than:\n",
    "        cols.append('age')\n",
    "    data_child = cfps[year][table].data[cols]\n",
    "    data_child[provcdid] = data_child[provcdid].apply(lambda x: \"NaN\" if pd.isna(x) else get_prov(x))\n",
    "    valids = data_child[data_child[col]>0]\n",
    "    if extra_less_than:\n",
    "        valids = valids[valids[\"age\"]<=16]\n",
    "    ans = coefficient*valids.groupby(provcdid).mean()\n",
    "    data = [ {\"name\": k, \"value\": v } for k,v in ans.to_dict()[col].items()]\n",
    "    return f\"\"\"{{\n",
    "    title: {{\n",
    "        text: \"{description}({year})\",\n",
    "    }},\n",
    "    series: [\n",
    "        {{\n",
    "            name: '{description}',\n",
    "            type: 'map',\n",
    "            map: 'china',\n",
    "            data: {data}\n",
    "        }}\n",
    "    ]\n",
    "}},\"\"\"\n",
    "get_data_for = partial(get_data_for, \"儿童幸福程度\")"
   ]
  },
  {
   "cell_type": "code",
   "execution_count": 32,
   "id": "7db1c411-6c83-479d-8320-8fcb38b3af1d",
   "metadata": {},
   "outputs": [
    {
     "name": "stdout",
     "output_type": "stream",
     "text": [
      "{\n",
      "    title: {\n",
      "        text: \"儿童幸福程度(2018)\",\n",
      "    },\n",
      "    series: [\n",
      "        {\n",
      "            name: '儿童幸福程度',\n",
      "            type: 'map',\n",
      "            map: 'china',\n",
      "            data: [{'name': '上海市', 'value': 8.402777777777779}, {'name': '云南省', 'value': 8.198019801980198}, {'name': '北京市', 'value': 9.5}, {'name': '吉林省', 'value': 8.233333333333333}, {'name': '四川省', 'value': 8.042780748663102}, {'name': '天津市', 'value': 8.25}, {'name': '宁夏回族自治区', 'value': 10.0}, {'name': '安徽省', 'value': 8.081632653061224}, {'name': '山东省', 'value': 8.634615384615385}, {'name': '山西省', 'value': 8.31}, {'name': '广东省', 'value': 7.840677966101695}, {'name': '广西壮族自治区', 'value': 7.584269662921348}, {'name': '新疆维吾尔自治区', 'value': 9.333333333333334}, {'name': '江苏省', 'value': 7.7073170731707314}, {'name': '江西省', 'value': 7.7924528301886795}, {'name': '河北省', 'value': 8.48936170212766}, {'name': '河南省', 'value': 8.394009216589861}, {'name': '浙江省', 'value': 8.0}, {'name': '湖北省', 'value': 8.470588235294118}, {'name': '湖南省', 'value': 7.333333333333333}, {'name': '甘肃省', 'value': 8.092378752886836}, {'name': '福建省', 'value': 8.244444444444444}, {'name': '贵州省', 'value': 7.6484375}, {'name': '辽宁省', 'value': 8.617021276595745}, {'name': '重庆市', 'value': 7.566666666666666}, {'name': '陕西省', 'value': 8.020833333333334}, {'name': '黑龙江省', 'value': 8.75438596491228}]\n",
      "        }\n",
      "    ]\n",
      "},\n"
     ]
    }
   ],
   "source": [
    "print(get_data_for(2018, \"person\", \"provcd18\", \"qm2016\", 1, True))"
   ]
  },
  {
   "cell_type": "code",
   "execution_count": 33,
   "id": "cedc709f-6600-4dd9-b248-2e5d8c5eea3c",
   "metadata": {},
   "outputs": [
    {
     "name": "stdout",
     "output_type": "stream",
     "text": [
      "{\n",
      "    title: {\n",
      "        text: \"儿童幸福程度(2010)\",\n",
      "    },\n",
      "    series: [\n",
      "        {\n",
      "            name: '儿童幸福程度',\n",
      "            type: 'map',\n",
      "            map: 'china',\n",
      "            data: [{'name': '上海市', 'value': 8.62962962962963}, {'name': '云南省', 'value': 8.693877551020408}, {'name': '北京市', 'value': 8.222222222222221}, {'name': '吉林省', 'value': 8.976744186046512}, {'name': '四川省', 'value': 8.239520958083832}, {'name': '天津市', 'value': 9.142857142857142}, {'name': '安徽省', 'value': 8.046511627906977}, {'name': '山东省', 'value': 8.714285714285714}, {'name': '山西省', 'value': 8.345238095238095}, {'name': '广东省', 'value': 7.797520661157025}, {'name': '广西壮族自治区', 'value': 8.204081632653061}, {'name': '江苏省', 'value': 8.448275862068966}, {'name': '江西省', 'value': 8.023529411764706}, {'name': '河北省', 'value': 8.867647058823529}, {'name': '河南省', 'value': 8.529680365296803}, {'name': '浙江省', 'value': 8.714285714285714}, {'name': '湖北省', 'value': 8.555555555555555}, {'name': '湖南省', 'value': 8.057692307692308}, {'name': '甘肃省', 'value': 8.36078431372549}, {'name': '福建省', 'value': 8.137931034482758}, {'name': '贵州省', 'value': 7.821782178217822}, {'name': '辽宁省', 'value': 8.655021834061136}, {'name': '重庆市', 'value': 8.324324324324325}, {'name': '陕西省', 'value': 8.301369863013699}, {'name': '黑龙江省', 'value': 8.928571428571429}]\n",
      "        }\n",
      "    ]\n",
      "},{\n",
      "    title: {\n",
      "        text: \"儿童幸福程度(2012)\",\n",
      "    },\n",
      "    series: [\n",
      "        {\n",
      "            name: '儿童幸福程度',\n",
      "            type: 'map',\n",
      "            map: 'china',\n",
      "            data: [{'name': '上海市', 'value': 8.294871794871796}, {'name': '云南省', 'value': 7.982456140350878}, {'name': '北京市', 'value': 7.833333333333333}, {'name': '吉林省', 'value': 8.833333333333334}, {'name': '四川省', 'value': 7.241758241758242}, {'name': '天津市', 'value': 8.4}, {'name': '安徽省', 'value': 8.195121951219512}, {'name': '山东省', 'value': 8.202020202020202}, {'name': '山西省', 'value': 7.8936170212765955}, {'name': '广东省', 'value': 7.668674698795181}, {'name': '广西壮族自治区', 'value': 7.7682926829268295}, {'name': '江苏省', 'value': 8.333333333333334}, {'name': '江西省', 'value': 7.6835443037974684}, {'name': '河北省', 'value': 8.1}, {'name': '河南省', 'value': 8.020648967551622}, {'name': '浙江省', 'value': 7.7272727272727275}, {'name': '湖北省', 'value': 7.9411764705882355}, {'name': '湖南省', 'value': 7.1098901098901095}, {'name': '甘肃省', 'value': 7.642857142857143}, {'name': '福建省', 'value': 8.32}, {'name': '贵州省', 'value': 7.085106382978723}, {'name': '辽宁省', 'value': 8.668508287292818}, {'name': '重庆市', 'value': 7.266666666666667}, {'name': '陕西省', 'value': 7.565217391304348}, {'name': '黑龙江省', 'value': 8.43859649122807}]\n",
      "        }\n",
      "    ]\n",
      "},{\n",
      "    title: {\n",
      "        text: \"儿童幸福程度(2014)\",\n",
      "    },\n",
      "    series: [\n",
      "        {\n",
      "            name: '儿童幸福程度',\n",
      "            type: 'map',\n",
      "            map: 'china',\n",
      "            data: [{'name': '上海市', 'value': 8.741935483870968}, {'name': '云南省', 'value': 8.297297297297296}, {'name': '北京市', 'value': 8.583333333333334}, {'name': '吉林省', 'value': 8.894736842105264}, {'name': '四川省', 'value': 7.937007874015748}, {'name': '天津市', 'value': 8.571428571428571}, {'name': '安徽省', 'value': 7.904761904761905}, {'name': '山东省', 'value': 9.085365853658537}, {'name': '山西省', 'value': 8.510416666666666}, {'name': '广东省', 'value': 7.945848375451264}, {'name': '广西壮族自治区', 'value': 7.781609195402299}, {'name': '江苏省', 'value': 8.325}, {'name': '江西省', 'value': 7.476923076923077}, {'name': '河北省', 'value': 8.944099378881987}, {'name': '河南省', 'value': 8.388586956521738}, {'name': '浙江省', 'value': 8.633333333333333}, {'name': '海南省', 'value': 6.0}, {'name': '湖北省', 'value': 8.757575757575758}, {'name': '湖南省', 'value': 7.6117647058823525}, {'name': '甘肃省', 'value': 8.124324324324323}, {'name': '福建省', 'value': 8.285714285714286}, {'name': '贵州省', 'value': 7.291338582677166}, {'name': '辽宁省', 'value': 8.830409356725147}, {'name': '重庆市', 'value': 8.117647058823529}, {'name': '陕西省', 'value': 8.666666666666666}, {'name': '黑龙江省', 'value': 8.461538461538462}]\n",
      "        }\n",
      "    ]\n",
      "},{\n",
      "    title: {\n",
      "        text: \"儿童幸福程度(2016)\",\n",
      "    },\n",
      "    series: [\n",
      "        {\n",
      "            name: '儿童幸福程度',\n",
      "            type: 'map',\n",
      "            map: 'china',\n",
      "            data: [{'name': '上海市', 'value': 8.702127659574469}, {'name': '云南省', 'value': 7.76}, {'name': '北京市', 'value': 8.571428571428571}, {'name': '吉林省', 'value': 8.941176470588236}, {'name': '四川省', 'value': 7.909090909090909}, {'name': '天津市', 'value': 7.333333333333333}, {'name': '安徽省', 'value': 8.1}, {'name': '山东省', 'value': 8.926829268292684}, {'name': '山西省', 'value': 8.813953488372093}, {'name': '广东省', 'value': 8.112244897959183}, {'name': '广西壮族自治区', 'value': 7.7317073170731705}, {'name': '新疆维吾尔自治区', 'value': 8.4}, {'name': '江苏省', 'value': 9.058823529411764}, {'name': '江西省', 'value': 7.7}, {'name': '河北省', 'value': 8.553846153846154}, {'name': '河南省', 'value': 8.54335260115607}, {'name': '浙江省', 'value': 8.533333333333333}, {'name': '湖北省', 'value': 7.769230769230769}, {'name': '湖南省', 'value': 8.11111111111111}, {'name': '甘肃省', 'value': 8.1437125748503}, {'name': '福建省', 'value': 9.0}, {'name': '贵州省', 'value': 6.9655172413793105}, {'name': '辽宁省', 'value': 8.728813559322035}, {'name': '重庆市', 'value': 8.15}, {'name': '陕西省', 'value': 8.464285714285714}, {'name': '黑龙江省', 'value': 9.625}]\n",
      "        }\n",
      "    ]\n",
      "},{\n",
      "    title: {\n",
      "        text: \"儿童幸福程度(2018)\",\n",
      "    },\n",
      "    series: [\n",
      "        {\n",
      "            name: '儿童幸福程度',\n",
      "            type: 'map',\n",
      "            map: 'china',\n",
      "            data: [{'name': '上海市', 'value': 8.402777777777779}, {'name': '云南省', 'value': 8.198019801980198}, {'name': '北京市', 'value': 9.5}, {'name': '吉林省', 'value': 8.233333333333333}, {'name': '四川省', 'value': 8.042780748663102}, {'name': '天津市', 'value': 8.25}, {'name': '宁夏回族自治区', 'value': 10.0}, {'name': '安徽省', 'value': 8.081632653061224}, {'name': '山东省', 'value': 8.634615384615385}, {'name': '山西省', 'value': 8.31}, {'name': '广东省', 'value': 7.840677966101695}, {'name': '广西壮族自治区', 'value': 7.584269662921348}, {'name': '新疆维吾尔自治区', 'value': 9.333333333333334}, {'name': '江苏省', 'value': 7.7073170731707314}, {'name': '江西省', 'value': 7.7924528301886795}, {'name': '河北省', 'value': 8.48936170212766}, {'name': '河南省', 'value': 8.394009216589861}, {'name': '浙江省', 'value': 8.0}, {'name': '湖北省', 'value': 8.470588235294118}, {'name': '湖南省', 'value': 7.333333333333333}, {'name': '甘肃省', 'value': 8.092378752886836}, {'name': '福建省', 'value': 8.244444444444444}, {'name': '贵州省', 'value': 7.6484375}, {'name': '辽宁省', 'value': 8.617021276595745}, {'name': '重庆市', 'value': 7.566666666666666}, {'name': '陕西省', 'value': 8.020833333333334}, {'name': '黑龙江省', 'value': 8.75438596491228}]\n",
      "        }\n",
      "    ]\n",
      "},\n"
     ]
    }
   ],
   "source": [
    "print(''.join(map(lambda x: get_data_for(*x), [\n",
    "    (2010, \"child\", \"provcd\", \"wm302\",2),\n",
    "    (2012, \"child\", \"provcd\", \"wm302_b_2\"),\n",
    "    (2014, \"child\", \"provcd14\", \"wm302\"),\n",
    "    (2016, \"child\", \"provcd16\", \"qm2014\"),\n",
    "    (2018, \"person\", \"provcd18\", \"qm2016\", 1, True),\n",
    "])))"
   ]
  },
  {
   "cell_type": "code",
   "execution_count": 37,
   "id": "a22c02ba-0ebe-4ac5-8616-d75dd2363dd8",
   "metadata": {},
   "outputs": [],
   "source": [
    "def get_data_for_urban_rural(year,table, col, coefficient=1, extra_less_than = False):\n",
    "    cols = [col]\n",
    "    if extra_less_than:\n",
    "        cols.append('age')\n",
    "    data_child_urban = cfps[year][table].urban[cols]\n",
    "    data_child_rural = cfps[year][table].rural[cols]\n",
    "    valids_urban = data_child_urban[data_child_urban[col]>0]\n",
    "    valids_rural = data_child_rural[data_child_rural[col]>0]\n",
    "    if extra_less_than:\n",
    "        valids_urban = valids_urban[valids_urban[\"age\"]<=16]\n",
    "        valids_rural = valids_rural[valids_rural[\"age\"]<=16]\n",
    "    ans_urban = coefficient * valids_urban[col].mean()\n",
    "    ans_rural = coefficient * valids_rural[col].mean()\n",
    "    return [year, ans_urban, ans_rural]"
   ]
  },
  {
   "cell_type": "code",
   "execution_count": 38,
   "id": "f53da696-2aec-4bb9-89dc-e576bcf29a45",
   "metadata": {},
   "outputs": [
    {
     "name": "stdout",
     "output_type": "stream",
     "text": [
      "[[2010, 8.50229709035222, 8.243720930232557], [2012, 7.967149758454107, 7.757125154894672], [2014, 8.396370582617001, 8.165886287625417], [2016, 8.478170478170478, 8.138198757763975], [2018, 8.197123519458545, 8.108892921960072]]\n"
     ]
    }
   ],
   "source": [
    "print(list(map(lambda x: get_data_for_urban_rural(*x), [\n",
    "    (2010, \"child\", \"wm302\",2),\n",
    "    (2012, \"child\", \"wm302_b_2\"),\n",
    "    (2014, \"child\", \"wm302\"),\n",
    "    (2016, \"child\", \"qm2014\"),\n",
    "    (2018, \"person\",\"qm2016\", 1, True),\n",
    "])))"
   ]
  },
  {
   "cell_type": "code",
   "execution_count": null,
   "id": "f2d4967b-2e73-4ae5-a0d1-994554130e16",
   "metadata": {},
   "outputs": [],
   "source": []
  }
 ],
 "metadata": {
  "kernelspec": {
   "display_name": "Python 3 (ipykernel)",
   "language": "python",
   "name": "python3"
  },
  "language_info": {
   "codemirror_mode": {
    "name": "ipython",
    "version": 3
   },
   "file_extension": ".py",
   "mimetype": "text/x-python",
   "name": "python",
   "nbconvert_exporter": "python",
   "pygments_lexer": "ipython3",
   "version": "3.10.0"
  }
 },
 "nbformat": 4,
 "nbformat_minor": 5
}
