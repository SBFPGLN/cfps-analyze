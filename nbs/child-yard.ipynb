{
 "cells": [
  {
   "cell_type": "code",
   "execution_count": 42,
   "id": "6c7f414e-f068-4419-9fd3-16dce9f845dd",
   "metadata": {},
   "outputs": [],
   "source": [
    "import sys\n",
    "sys.path.append(\"../process\")"
   ]
  },
  {
   "cell_type": "code",
   "execution_count": 43,
   "id": "bcddd4a5-a389-413f-8343-90eb2f36e4f5",
   "metadata": {},
   "outputs": [],
   "source": [
    "from cfps_shell import *"
   ]
  },
  {
   "cell_type": "markdown",
   "id": "28d80404-8351-46e2-ac81-e3c4acc9015d",
   "metadata": {},
   "source": [
    "\"description\": \"孩子是否曾经上过幼儿园\","
   ]
  },
  {
   "cell_type": "code",
   "execution_count": 11,
   "id": "24b53225-1e49-4176-a158-0bbae29dfbd4",
   "metadata": {},
   "outputs": [],
   "source": [
    "data_childyard = {\n",
    "    (2010,\"urban\"): cfps[2010].child.urban[\"wf101\"],\n",
    "    (2010,\"rural\"): cfps[2010].child.rural[\"wf101\"],\n",
    "    (2012,\"urban\"): cfps[2012].child.urban[\"wf101\"],\n",
    "    (2012,\"rural\"): cfps[2012].child.rural[\"wf101\"],\n",
    "    (2014,\"urban\"): cfps[2014].child.urban[\"wf101\"],\n",
    "    (2014,\"rural\"): cfps[2014].child.rural[\"wf101\"],\n",
    "    (2016,\"urban\"): cfps[2016].child.urban[\"pc6_b_1\"],\n",
    "    (2016,\"rural\"): cfps[2016].child.rural[\"pc6_b_1\"],\n",
    "    (2018, \"urban\"): cfps[2018].childproxy.urban[\"wc6\"],\n",
    "    (2018, \"rural\"): cfps[2018].childproxy.rural[\"wc6\"],\n",
    "}"
   ]
  },
  {
   "cell_type": "code",
   "execution_count": 24,
   "id": "b66ad1c4-a040-468a-a2d7-fc65862b15d7",
   "metadata": {},
   "outputs": [],
   "source": [
    "valids = {key: value[(value<=5)&(value>=0)] for key, value in data_childyard.items()}"
   ]
  },
  {
   "cell_type": "code",
   "execution_count": 30,
   "id": "19dc0727-acda-44d4-a27c-b29b6d7ff14f",
   "metadata": {},
   "outputs": [
    {
     "data": {
      "text/plain": [
       "{(2010, 'urban'): 2277,\n",
       " (2010, 'rural'): 4224,\n",
       " (2012, 'urban'): 77,\n",
       " (2012, 'rural'): 79,\n",
       " (2014, 'urban'): 51,\n",
       " (2014, 'rural'): 69,\n",
       " (2016, 'urban'): 197,\n",
       " (2016, 'rural'): 211,\n",
       " (2018, 'urban'): 69,\n",
       " (2018, 'rural'): 57}"
      ]
     },
     "execution_count": 30,
     "metadata": {},
     "output_type": "execute_result"
    }
   ],
   "source": [
    "{key:len(value) for key,value in valids.items()}"
   ]
  },
  {
   "cell_type": "code",
   "execution_count": 40,
   "id": "b973e63a-f533-4e49-b117-a28d6fe6518d",
   "metadata": {},
   "outputs": [],
   "source": [
    "ans = {key:(len(value[value==1])/len(value)) for key, value in valids.items()}"
   ]
  },
  {
   "cell_type": "code",
   "execution_count": 41,
   "id": "29865332-b2a5-4b0c-b8b5-606f331cfb9f",
   "metadata": {},
   "outputs": [
    {
     "data": {
      "text/plain": [
       "{(2010, 'urban'): 0.8133509003074221,\n",
       " (2010, 'rural'): 0.43394886363636365,\n",
       " (2012, 'urban'): 0.8831168831168831,\n",
       " (2012, 'rural'): 0.6329113924050633,\n",
       " (2014, 'urban'): 0.8823529411764706,\n",
       " (2014, 'rural'): 0.7391304347826086,\n",
       " (2016, 'urban'): 0.5380710659898477,\n",
       " (2016, 'rural'): 0.5450236966824644,\n",
       " (2018, 'urban'): 0.8985507246376812,\n",
       " (2018, 'rural'): 0.7192982456140351}"
      ]
     },
     "execution_count": 41,
     "metadata": {},
     "output_type": "execute_result"
    }
   ],
   "source": [
    "ans"
   ]
  },
  {
   "cell_type": "code",
   "execution_count": 37,
   "id": "27835e43-47ca-43d5-937f-085160951277",
   "metadata": {},
   "outputs": [
    {
     "data": {
      "text/plain": [
       "3159"
      ]
     },
     "execution_count": 37,
     "metadata": {},
     "output_type": "execute_result"
    }
   ],
   "source": [
    "len(cfps[2012].child.urban[\"wf101\"])"
   ]
  },
  {
   "cell_type": "code",
   "execution_count": null,
   "id": "94ac116c-59fb-47aa-9d26-770ad2a802e5",
   "metadata": {},
   "outputs": [],
   "source": []
  }
 ],
 "metadata": {
  "kernelspec": {
   "display_name": "Python 3 (ipykernel)",
   "language": "python",
   "name": "python3"
  },
  "language_info": {
   "codemirror_mode": {
    "name": "ipython",
    "version": 3
   },
   "file_extension": ".py",
   "mimetype": "text/x-python",
   "name": "python",
   "nbconvert_exporter": "python",
   "pygments_lexer": "ipython3",
   "version": "3.10.0"
  }
 },
 "nbformat": 4,
 "nbformat_minor": 5
}
