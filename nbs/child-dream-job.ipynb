{
 "cells": [
  {
   "cell_type": "code",
   "execution_count": 1,
   "id": "86b69eef-a822-4093-b563-faeac3d59603",
   "metadata": {},
   "outputs": [],
   "source": [
    "import os\n",
    "os.chdir(\"..\")\n",
    "import sys\n",
    "sys.path.append(\"process\")\n",
    "from cfps_shell import *\n",
    "from functools import partial\n",
    "pd.options.mode.chained_assignment = None "
   ]
  },
  {
   "cell_type": "code",
   "execution_count": 2,
   "id": "e676ac8d-7ae9-4897-a663-1c3c066ea1bb",
   "metadata": {},
   "outputs": [],
   "source": [
    "datasrc_child = {\n",
    "    2010: \"wm601code\",\n",
    "    # 2012\n",
    "    2016: \"ks801code\"\n",
    "}\n",
    "datasrc_parent = {\n",
    "    2010: \"wd101code\",\n",
    "    2014: \"wd101code\",\n",
    "    2018: \"wd101code\"\n",
    "}"
   ]
  },
  {
   "cell_type": "code",
   "execution_count": 28,
   "id": "dd11d9f6-e804-4c37-9b9a-9d2cbb0e6f54",
   "metadata": {},
   "outputs": [
    {
     "data": {
      "text/plain": [
       "{-8.0: 2870,\n",
       " 9.0: 736,\n",
       " -1.0: 639,\n",
       " 6.0: 419,\n",
       " 2.0: 277,\n",
       " 15.0: 196,\n",
       " 3.0: 181,\n",
       " 10.0: 166,\n",
       " 23.0: 101,\n",
       " 27.0: 101,\n",
       " 14.0: 97,\n",
       " 4.0: 69,\n",
       " 8.0: 56,\n",
       " 18.0: 50,\n",
       " 1.0: 49,\n",
       " 21.0: 40,\n",
       " 12.0: 31,\n",
       " 11.0: 30,\n",
       " 16.0: 30,\n",
       " 26.0: 28,\n",
       " 20.0: 27,\n",
       " 24.0: 27,\n",
       " 22.0: 24,\n",
       " 5.0: 21,\n",
       " 7.0: 19,\n",
       " 17.0: 16,\n",
       " 19.0: 14,\n",
       " 25.0: 9,\n",
       " -2.0: 5,\n",
       " 13.0: 1}"
      ]
     },
     "execution_count": 28,
     "metadata": {},
     "output_type": "execute_result"
    }
   ],
   "source": [
    "cfps[2010].child.data[\"wm601code\"].value_counts().to_dict() #.apply(lambda x: cfps[2010].child.schema[\"wm601code\"][\"range\"][str(int(x))])"
   ]
  },
  {
   "cell_type": "code",
   "execution_count": 7,
   "id": "d13ea13c-59bf-4379-a065-08e646c2eb29",
   "metadata": {},
   "outputs": [
    {
     "data": {
      "text/plain": [
       "{'type': 'enum',\n",
       " 'key': '你长大后最希望从事具体职业是（职业期望）',\n",
       " 'range': {'-8': '-8 不适用',\n",
       "  '-2': '-2 拒绝回答',\n",
       "  '-1': '-1 不知道',\n",
       "  '1': '1 国家机关、党群组织、事业单位负责人',\n",
       "  '2': '2 企业负责人',\n",
       "  '3': '3 科学研究人员',\n",
       "  '4': '4 工程技术人员',\n",
       "  '5': '5 飞机和船舶技术人员',\n",
       "  '6': '6 卫生专业技术人员',\n",
       "  '7': '7 经济和金融业务人员',\n",
       "  '8': '8 法律专业人员',\n",
       "  '9': '9 教学人员',\n",
       "  '10': '10 文学艺术工作人员',\n",
       "  '11': '11 体育工作人员',\n",
       "  '12': '12 新闻出版和文化工作人员 ',\n",
       "  '13': '13 其他专业技术人员',\n",
       "  '14': '14 行政办公和其他办事人员',\n",
       "  '15': '15 安全保卫和消防人员',\n",
       "  '16': '16 餐饮、旅游和健身娱乐场所服务人员',\n",
       "  '17': '17 运输服务人员',\n",
       "  '18': '18 社会服务和居民生活服务人员',\n",
       "  '19': '19 农业生产人员 ',\n",
       "  '20': '20 机械、电子、电力设备制造加工和维修人员',\n",
       "  '21': '21 运输设备操作人员及有关人员',\n",
       "  '22': '22 其他设备操作人员及有关人员',\n",
       "  '23': '23 军人',\n",
       "  '24': '24 读书',\n",
       "  '25': '25 为人民服务',\n",
       "  '26': '26 打工',\n",
       "  '27': '27 不便分类的其他从业人员'},\n",
       " 'details': [],\n",
       " 'minmax': [-8.0, 27.0]}"
      ]
     },
     "execution_count": 7,
     "metadata": {},
     "output_type": "execute_result"
    }
   ],
   "source": [
    "cfps[2010].child.schema[\"wm601code\"]"
   ]
  },
  {
   "cell_type": "code",
   "execution_count": 32,
   "id": "ba1acf8a-9c86-4083-89b5-5bb884477390",
   "metadata": {},
   "outputs": [],
   "source": [
    "def sanitize_str(s):\n",
    "    return ''.join(list(filter(lambda x: not str.isnumeric(x), s))).replace(' ', '')"
   ]
  },
  {
   "cell_type": "code",
   "execution_count": 33,
   "id": "70a5b459-022d-492d-a275-2f42fb461f8c",
   "metadata": {},
   "outputs": [],
   "source": [
    "def get_data(year, code):\n",
    "    data = cfps[year].child.data[code] if year != 2018 else cfps[year].childproxy.data[code]\n",
    "    data = data.value_counts().to_dict() \n",
    "    data = {k:v for k, v in data.items() if k>0}\n",
    "    descriptions = (cfps[year].child if year != 2018 else cfps[year].childproxy).schema[code][\"range\"]\n",
    "    return {sanitize_str(descriptions[str(int(code))]):cnt for code, cnt in data.items()}"
   ]
  },
  {
   "cell_type": "code",
   "execution_count": 34,
   "id": "79358783-e283-4c8b-80f8-3ce9973c37e6",
   "metadata": {},
   "outputs": [
    {
     "data": {
      "text/plain": [
       "{'教学人员': 736,\n",
       " '卫生专业技术人员': 419,\n",
       " '企业负责人': 277,\n",
       " '安全保卫和消防人员': 196,\n",
       " '科学研究人员': 181,\n",
       " '文学艺术工作人员': 166,\n",
       " '军人': 101,\n",
       " '不便分类的其他从业人员': 101,\n",
       " '行政办公和其他办事人员': 97,\n",
       " '工程技术人员': 69,\n",
       " '法律专业人员': 56,\n",
       " '社会服务和居民生活服务人员': 50,\n",
       " '国家机关、党群组织、事业单位负责人': 49,\n",
       " '运输设备操作人员及有关人员': 40,\n",
       " '新闻出版和文化工作人员': 31,\n",
       " '体育工作人员': 30,\n",
       " '餐饮、旅游和健身娱乐场所服务人员': 30,\n",
       " '打工': 28,\n",
       " '机械、电子、电力设备制造加工和维修人员': 27,\n",
       " '读书': 27,\n",
       " '其他设备操作人员及有关人员': 24,\n",
       " '飞机和船舶技术人员': 21,\n",
       " '经济和金融业务人员': 19,\n",
       " '运输服务人员': 16,\n",
       " '农业生产人员': 14,\n",
       " '为人民服务': 9,\n",
       " '其他专业技术人员': 1}"
      ]
     },
     "execution_count": 34,
     "metadata": {},
     "output_type": "execute_result"
    }
   ],
   "source": [
    "get_data(2010, \"wm601code\")"
   ]
  },
  {
   "cell_type": "code",
   "execution_count": 35,
   "id": "5ddeb614-2963-4be8-8a10-a7361f05b288",
   "metadata": {},
   "outputs": [],
   "source": [
    "data_child = {year:get_data(year, code) for year, code in datasrc_child.items()}"
   ]
  },
  {
   "cell_type": "code",
   "execution_count": 36,
   "id": "7a73c808-f142-4b09-abb7-4257d4f4f831",
   "metadata": {},
   "outputs": [
    {
     "data": {
      "text/plain": [
       "{2010: {'教学人员': 736,\n",
       "  '卫生专业技术人员': 419,\n",
       "  '企业负责人': 277,\n",
       "  '安全保卫和消防人员': 196,\n",
       "  '科学研究人员': 181,\n",
       "  '文学艺术工作人员': 166,\n",
       "  '军人': 101,\n",
       "  '不便分类的其他从业人员': 101,\n",
       "  '行政办公和其他办事人员': 97,\n",
       "  '工程技术人员': 69,\n",
       "  '法律专业人员': 56,\n",
       "  '社会服务和居民生活服务人员': 50,\n",
       "  '国家机关、党群组织、事业单位负责人': 49,\n",
       "  '运输设备操作人员及有关人员': 40,\n",
       "  '新闻出版和文化工作人员': 31,\n",
       "  '体育工作人员': 30,\n",
       "  '餐饮、旅游和健身娱乐场所服务人员': 30,\n",
       "  '打工': 28,\n",
       "  '机械、电子、电力设备制造加工和维修人员': 27,\n",
       "  '读书': 27,\n",
       "  '其他设备操作人员及有关人员': 24,\n",
       "  '飞机和船舶技术人员': 21,\n",
       "  '经济和金融业务人员': 19,\n",
       "  '运输服务人员': 16,\n",
       "  '农业生产人员': 14,\n",
       "  '为人民服务': 9,\n",
       "  '其他专业技术人员': 1},\n",
       " 2016: {'教学人员': 584,\n",
       "  '卫生专业技术人员': 300,\n",
       "  '文学艺术工作人员': 233,\n",
       "  '军人': 126,\n",
       "  '安全保卫和消防人员': 109,\n",
       "  '工程技术人员': 99,\n",
       "  '科学研究人员': 91,\n",
       "  '企业负责人': 72,\n",
       "  '餐饮、旅游和健身娱乐场所服务人员': 56,\n",
       "  '行政办公和其他办事人员': 55,\n",
       "  '体育工作人员': 35,\n",
       "  '新闻出版和文化工作人员': 28,\n",
       "  '飞机和船舶技术人员': 20,\n",
       "  '国家机关、党群组织、事业单位负责人': 18,\n",
       "  '经济和金融业务人员': 18,\n",
       "  '读书': 18,\n",
       "  '机械、电子、电力设备制造加工和维修人员': 15,\n",
       "  '社会服务和居民生活服务人员': 15,\n",
       "  '法律专业人员': 13,\n",
       "  '运输设备操作人员及有关人员': 12,\n",
       "  '不便分类的其他从业人员': 10,\n",
       "  '打工': 8,\n",
       "  '运输服务人员': 7,\n",
       "  '其他设备操作人员及有关人员': 6,\n",
       "  '工人': 6,\n",
       "  '农业生产人员': 5,\n",
       "  '其他专业技术人员': 2}}"
      ]
     },
     "execution_count": 36,
     "metadata": {},
     "output_type": "execute_result"
    }
   ],
   "source": [
    "data_child"
   ]
  },
  {
   "cell_type": "code",
   "execution_count": 38,
   "id": "3639fe3a-eb33-492d-9925-f89cc619930b",
   "metadata": {},
   "outputs": [
    {
     "data": {
      "text/plain": [
       "{2010: {'教学人员': 1025,\n",
       "  '卫生专业技术人员': 743,\n",
       "  '不便分类的其他从业人员': 484,\n",
       "  '行政办公和其他办事人员': 315,\n",
       "  '企业负责人': 215,\n",
       "  '国家机关、党群组织、事业单位负责人': 187,\n",
       "  '军人': 134,\n",
       "  '读书': 123,\n",
       "  '科学研究人员': 122,\n",
       "  '安全保卫和消防人员': 119,\n",
       "  '工程技术人员': 110,\n",
       "  '文学艺术工作人员': 85,\n",
       "  '法律专业人员': 63,\n",
       "  '为人民服务': 42,\n",
       "  '其他设备操作人员及有关人员': 41,\n",
       "  '运输设备操作人员及有关人员': 33,\n",
       "  '打工': 30,\n",
       "  '经济和金融业务人员': 27,\n",
       "  '农业生产人员': 27,\n",
       "  '机械、电子、电力设备制造加工和维修人员': 21,\n",
       "  '社会服务和居民生活服务人员': 20,\n",
       "  '新闻出版和文化工作人员': 13,\n",
       "  '餐饮、旅游和健身娱乐场所服务人员': 12,\n",
       "  '体育工作人员': 12,\n",
       "  '飞机和船舶技术人员': 9,\n",
       "  '运输服务人员': 7,\n",
       "  '其他专业技术人员': 4},\n",
       " 2014: {'卫生专业技术人员': 634,\n",
       "  '教学人员': 575,\n",
       "  '行政办公和其他办事人员': 218,\n",
       "  '看他/她自己': 190,\n",
       "  '企业负责人': 146,\n",
       "  '国家机关、党群组织、事业单位负责人': 109,\n",
       "  '军人': 108,\n",
       "  '安全保卫和消防人员': 58,\n",
       "  '读书': 44,\n",
       "  '文学艺术工作人员': 44,\n",
       "  '科学研究人员': 39,\n",
       "  '工程技术人员': 39,\n",
       "  '法律专业人员': 36,\n",
       "  '经济和金融业务人员': 24,\n",
       "  '其他设备操作人员及有关人员': 14,\n",
       "  '社会服务和居民生活服务人员': 13,\n",
       "  '农业生产人员': 12,\n",
       "  '打工': 10,\n",
       "  '不便分类的其他从业人员': 10,\n",
       "  '飞机和船舶技术人员': 9,\n",
       "  '体育工作人员': 7,\n",
       "  '新闻出版和文化工作人员': 6,\n",
       "  '为人民服务': 5,\n",
       "  '其他专业技术人员': 5,\n",
       "  '机械、电子、电力设备制造加工和维修人员': 4,\n",
       "  '工人': 4,\n",
       "  '运输服务人员': 1},\n",
       " 2018: {'教学人员': 673,\n",
       "  '卫生专业技术人员': 493,\n",
       "  '看他/她自己': 440,\n",
       "  '行政办公和其他办事人员': 240,\n",
       "  '军人': 199,\n",
       "  '读书': 67,\n",
       "  '文学艺术工作人员': 64,\n",
       "  '企业负责人': 63,\n",
       "  '工程技术人员': 63,\n",
       "  '安全保卫和消防人员': 58,\n",
       "  '国家机关、党群组织、事业单位负责人': 49,\n",
       "  '科学研究人员': 43,\n",
       "  '经济和金融业务人员': 32,\n",
       "  '法律专业人员': 32,\n",
       "  '飞机和船舶技术人员': 19,\n",
       "  '农业生产人员': 14,\n",
       "  '餐饮、旅游和健身娱乐场所服务人员': 14,\n",
       "  '运输服务人员': 12,\n",
       "  '体育工作人员': 9,\n",
       "  '新闻出版和文化工作人员': 9,\n",
       "  '其他设备操作人员及有关人员': 8,\n",
       "  '打工': 8,\n",
       "  '机械、电子、电力设备制造加工和维修人员': 7,\n",
       "  '社会服务和居民生活服务人员': 7,\n",
       "  '运输设备操作人员及有关人员': 2,\n",
       "  '为人民服务': 2,\n",
       "  '其他专业技术人员': 1}}"
      ]
     },
     "execution_count": 38,
     "metadata": {},
     "output_type": "execute_result"
    }
   ],
   "source": [
    "data_parent = {year:get_data(year, code) for year, code in datasrc_parent.items()}\n",
    "data_parent"
   ]
  },
  {
   "cell_type": "code",
   "execution_count": 45,
   "id": "e8bff71e-8f93-402b-8782-f62bc79c717b",
   "metadata": {},
   "outputs": [],
   "source": [
    "def format_data(year, data, title):\n",
    "    dat = [{\"name\":name,\"value\":value} for name, value in data.items()]\n",
    "    return f\"\"\"{{\n",
    "    title: {{\n",
    "        text: \"{title}({year})\",\n",
    "        left: \"center\"\n",
    "    }},\n",
    "    series: [\n",
    "        {{\n",
    "              name: '{title}',\n",
    "              type: 'wordCloud',\n",
    "              shape: 'pentagon',\n",
    "              layoutAnimation: true,\n",
    "              textStyle,\n",
    "              emphasis,\n",
    "              data: {dat}\n",
    "        }}\n",
    "    ]\n",
    "}}\"\"\""
   ]
  },
  {
   "cell_type": "code",
   "execution_count": 52,
   "id": "717fd64f-d8f1-4586-9cff-fa73b1260622",
   "metadata": {},
   "outputs": [
    {
     "name": "stdout",
     "output_type": "stream",
     "text": [
      "{\n",
      "    title: {\n",
      "        text: \"青少年的职业期望(2010)\",\n",
      "        left: \"center\"\n",
      "    },\n",
      "    series: [\n",
      "        {\n",
      "              name: '青少年的职业期望',\n",
      "              type: 'wordCloud',\n",
      "              shape: 'pentagon',\n",
      "              layoutAnimation: true,\n",
      "              textStyle,\n",
      "              emphasis,\n",
      "              data: [{'name': '教学人员', 'value': 736}, {'name': '卫生专业技术人员', 'value': 419}, {'name': '企业负责人', 'value': 277}, {'name': '安全保卫和消防人员', 'value': 196}, {'name': '科学研究人员', 'value': 181}, {'name': '文学艺术工作人员', 'value': 166}, {'name': '军人', 'value': 101}, {'name': '不便分类的其他从业人员', 'value': 101}, {'name': '行政办公和其他办事人员', 'value': 97}, {'name': '工程技术人员', 'value': 69}, {'name': '法律专业人员', 'value': 56}, {'name': '社会服务和居民生活服务人员', 'value': 50}, {'name': '国家机关、党群组织、事业单位负责人', 'value': 49}, {'name': '运输设备操作人员及有关人员', 'value': 40}, {'name': '新闻出版和文化工作人员', 'value': 31}, {'name': '体育工作人员', 'value': 30}, {'name': '餐饮、旅游和健身娱乐场所服务人员', 'value': 30}, {'name': '打工', 'value': 28}, {'name': '机械、电子、电力设备制造加工和维修人员', 'value': 27}, {'name': '读书', 'value': 27}, {'name': '其他设备操作人员及有关人员', 'value': 24}, {'name': '飞机和船舶技术人员', 'value': 21}, {'name': '经济和金融业务人员', 'value': 19}, {'name': '运输服务人员', 'value': 16}, {'name': '农业生产人员', 'value': 14}, {'name': '为人民服务', 'value': 9}, {'name': '其他专业技术人员', 'value': 1}]\n",
      "        }\n",
      "    ]\n",
      "},\n",
      "{\n",
      "    title: {\n",
      "        text: \"青少年的职业期望(2016)\",\n",
      "        left: \"center\"\n",
      "    },\n",
      "    series: [\n",
      "        {\n",
      "              name: '青少年的职业期望',\n",
      "              type: 'wordCloud',\n",
      "              shape: 'pentagon',\n",
      "              layoutAnimation: true,\n",
      "              textStyle,\n",
      "              emphasis,\n",
      "              data: [{'name': '教学人员', 'value': 584}, {'name': '卫生专业技术人员', 'value': 300}, {'name': '文学艺术工作人员', 'value': 233}, {'name': '军人', 'value': 126}, {'name': '安全保卫和消防人员', 'value': 109}, {'name': '工程技术人员', 'value': 99}, {'name': '科学研究人员', 'value': 91}, {'name': '企业负责人', 'value': 72}, {'name': '餐饮、旅游和健身娱乐场所服务人员', 'value': 56}, {'name': '行政办公和其他办事人员', 'value': 55}, {'name': '体育工作人员', 'value': 35}, {'name': '新闻出版和文化工作人员', 'value': 28}, {'name': '飞机和船舶技术人员', 'value': 20}, {'name': '国家机关、党群组织、事业单位负责人', 'value': 18}, {'name': '经济和金融业务人员', 'value': 18}, {'name': '读书', 'value': 18}, {'name': '机械、电子、电力设备制造加工和维修人员', 'value': 15}, {'name': '社会服务和居民生活服务人员', 'value': 15}, {'name': '法律专业人员', 'value': 13}, {'name': '运输设备操作人员及有关人员', 'value': 12}, {'name': '不便分类的其他从业人员', 'value': 10}, {'name': '打工', 'value': 8}, {'name': '运输服务人员', 'value': 7}, {'name': '其他设备操作人员及有关人员', 'value': 6}, {'name': '工人', 'value': 6}, {'name': '农业生产人员', 'value': 5}, {'name': '其他专业技术人员', 'value': 2}]\n",
      "        }\n",
      "    ]\n",
      "},\n"
     ]
    }
   ],
   "source": [
    "for year, data in data_child.items():print(format_data(year, data, \"青少年的职业期望\"),end=\",\\n\")"
   ]
  },
  {
   "cell_type": "code",
   "execution_count": 50,
   "id": "1eaeaea2-b050-4c63-8c67-c08066905260",
   "metadata": {},
   "outputs": [
    {
     "name": "stdout",
     "output_type": "stream",
     "text": [
      "{\n",
      "    title: {\n",
      "        text: \"家长对儿童的职业期望(2010)\",\n",
      "        left: \"center\"\n",
      "    },\n",
      "    series: [\n",
      "        {\n",
      "              name: '家长对儿童的职业期望',\n",
      "              type: 'wordCloud',\n",
      "              shape: 'pentagon',\n",
      "              layoutAnimation: true,\n",
      "              textStyle,\n",
      "              emphasis,\n",
      "              data: [{'name': '教学人员', 'value': 1025}, {'name': '卫生专业技术人员', 'value': 743}, {'name': '不便分类的其他从业人员', 'value': 484}, {'name': '行政办公和其他办事人员', 'value': 315}, {'name': '企业负责人', 'value': 215}, {'name': '国家机关、党群组织、事业单位负责人', 'value': 187}, {'name': '军人', 'value': 134}, {'name': '读书', 'value': 123}, {'name': '科学研究人员', 'value': 122}, {'name': '安全保卫和消防人员', 'value': 119}, {'name': '工程技术人员', 'value': 110}, {'name': '文学艺术工作人员', 'value': 85}, {'name': '法律专业人员', 'value': 63}, {'name': '为人民服务', 'value': 42}, {'name': '其他设备操作人员及有关人员', 'value': 41}, {'name': '运输设备操作人员及有关人员', 'value': 33}, {'name': '打工', 'value': 30}, {'name': '经济和金融业务人员', 'value': 27}, {'name': '农业生产人员', 'value': 27}, {'name': '机械、电子、电力设备制造加工和维修人员', 'value': 21}, {'name': '社会服务和居民生活服务人员', 'value': 20}, {'name': '新闻出版和文化工作人员', 'value': 13}, {'name': '餐饮、旅游和健身娱乐场所服务人员', 'value': 12}, {'name': '体育工作人员', 'value': 12}, {'name': '飞机和船舶技术人员', 'value': 9}, {'name': '运输服务人员', 'value': 7}, {'name': '其他专业技术人员', 'value': 4}]\n",
      "        }\n",
      "    ]\n",
      "},\n",
      "{\n",
      "    title: {\n",
      "        text: \"家长对儿童的职业期望(2014)\",\n",
      "        left: \"center\"\n",
      "    },\n",
      "    series: [\n",
      "        {\n",
      "              name: '家长对儿童的职业期望',\n",
      "              type: 'wordCloud',\n",
      "              shape: 'pentagon',\n",
      "              layoutAnimation: true,\n",
      "              textStyle,\n",
      "              emphasis,\n",
      "              data: [{'name': '卫生专业技术人员', 'value': 634}, {'name': '教学人员', 'value': 575}, {'name': '行政办公和其他办事人员', 'value': 218}, {'name': '看他/她自己', 'value': 190}, {'name': '企业负责人', 'value': 146}, {'name': '国家机关、党群组织、事业单位负责人', 'value': 109}, {'name': '军人', 'value': 108}, {'name': '安全保卫和消防人员', 'value': 58}, {'name': '读书', 'value': 44}, {'name': '文学艺术工作人员', 'value': 44}, {'name': '科学研究人员', 'value': 39}, {'name': '工程技术人员', 'value': 39}, {'name': '法律专业人员', 'value': 36}, {'name': '经济和金融业务人员', 'value': 24}, {'name': '其他设备操作人员及有关人员', 'value': 14}, {'name': '社会服务和居民生活服务人员', 'value': 13}, {'name': '农业生产人员', 'value': 12}, {'name': '打工', 'value': 10}, {'name': '不便分类的其他从业人员', 'value': 10}, {'name': '飞机和船舶技术人员', 'value': 9}, {'name': '体育工作人员', 'value': 7}, {'name': '新闻出版和文化工作人员', 'value': 6}, {'name': '为人民服务', 'value': 5}, {'name': '其他专业技术人员', 'value': 5}, {'name': '机械、电子、电力设备制造加工和维修人员', 'value': 4}, {'name': '工人', 'value': 4}, {'name': '运输服务人员', 'value': 1}]\n",
      "        }\n",
      "    ]\n",
      "},\n",
      "{\n",
      "    title: {\n",
      "        text: \"家长对儿童的职业期望(2018)\",\n",
      "        left: \"center\"\n",
      "    },\n",
      "    series: [\n",
      "        {\n",
      "              name: '家长对儿童的职业期望',\n",
      "              type: 'wordCloud',\n",
      "              shape: 'pentagon',\n",
      "              layoutAnimation: true,\n",
      "              textStyle,\n",
      "              emphasis,\n",
      "              data: [{'name': '教学人员', 'value': 673}, {'name': '卫生专业技术人员', 'value': 493}, {'name': '看他/她自己', 'value': 440}, {'name': '行政办公和其他办事人员', 'value': 240}, {'name': '军人', 'value': 199}, {'name': '读书', 'value': 67}, {'name': '文学艺术工作人员', 'value': 64}, {'name': '企业负责人', 'value': 63}, {'name': '工程技术人员', 'value': 63}, {'name': '安全保卫和消防人员', 'value': 58}, {'name': '国家机关、党群组织、事业单位负责人', 'value': 49}, {'name': '科学研究人员', 'value': 43}, {'name': '经济和金融业务人员', 'value': 32}, {'name': '法律专业人员', 'value': 32}, {'name': '飞机和船舶技术人员', 'value': 19}, {'name': '农业生产人员', 'value': 14}, {'name': '餐饮、旅游和健身娱乐场所服务人员', 'value': 14}, {'name': '运输服务人员', 'value': 12}, {'name': '体育工作人员', 'value': 9}, {'name': '新闻出版和文化工作人员', 'value': 9}, {'name': '其他设备操作人员及有关人员', 'value': 8}, {'name': '打工', 'value': 8}, {'name': '机械、电子、电力设备制造加工和维修人员', 'value': 7}, {'name': '社会服务和居民生活服务人员', 'value': 7}, {'name': '运输设备操作人员及有关人员', 'value': 2}, {'name': '为人民服务', 'value': 2}, {'name': '其他专业技术人员', 'value': 1}]\n",
      "        }\n",
      "    ]\n",
      "},\n"
     ]
    }
   ],
   "source": [
    "for year, data in data_parent.items():print(format_data(year, data, \"家长对儿童的职业期望\"), end=\",\\n\")"
   ]
  },
  {
   "cell_type": "code",
   "execution_count": null,
   "id": "06976a6a-0b21-4bc1-8a1b-7af3c1609aac",
   "metadata": {},
   "outputs": [],
   "source": []
  }
 ],
 "metadata": {
  "kernelspec": {
   "display_name": "Python 3 (ipykernel)",
   "language": "python",
   "name": "python3"
  },
  "language_info": {
   "codemirror_mode": {
    "name": "ipython",
    "version": 3
   },
   "file_extension": ".py",
   "mimetype": "text/x-python",
   "name": "python",
   "nbconvert_exporter": "python",
   "pygments_lexer": "ipython3",
   "version": "3.10.0"
  }
 },
 "nbformat": 4,
 "nbformat_minor": 5
}
