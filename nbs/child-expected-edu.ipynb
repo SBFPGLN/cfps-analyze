{
 "cells": [
  {
   "cell_type": "code",
   "execution_count": 1,
   "id": "8c0457a4-077b-4236-822d-33dd7018ce04",
   "metadata": {},
   "outputs": [],
   "source": [
    "import os\n",
    "os.chdir(\"..\")\n",
    "import sys\n",
    "sys.path.append(\"process\")\n",
    "from cfps_shell import *\n",
    "from functools import partial\n",
    "pd.options.mode.chained_assignment = None "
   ]
  },
  {
   "cell_type": "code",
   "execution_count": 2,
   "id": "9de3b44c-c357-46d8-a8ad-8d98eb14b541",
   "metadata": {},
   "outputs": [],
   "source": [
    "data_child = {\n",
    "    (2010,\"urban\"): cfps[2010].child.urban[\"wd2\"],\n",
    "    (2010,\"rural\"): cfps[2010].child.rural[\"wd2\"],\n",
    "    (2012,\"urban\"): cfps[2012].child.urban[\"wd2\"],\n",
    "    (2012,\"rural\"): cfps[2012].child.rural[\"wd2\"],\n",
    "    (2014,\"urban\"): cfps[2014].child.urban[\"wd2\"],\n",
    "    (2014,\"rural\"): cfps[2014].child.rural[\"wd2\"],\n",
    "    (2016,\"urban\"): cfps[2016].child.urban[\"wd2\"],\n",
    "    (2016,\"rural\"): cfps[2016].child.rural[\"wd2\"],\n",
    "    (2018, \"urban\"): cfps[2018].childproxy.urban[\"wd2\"],\n",
    "    (2018, \"rural\"): cfps[2018].childproxy.rural[\"wd2\"],\n",
    "}"
   ]
  },
  {
   "cell_type": "code",
   "execution_count": 3,
   "id": "2763cd76",
   "metadata": {},
   "outputs": [],
   "source": [
    "valids = {key: value[value>0] for key, value in data_child.items()}"
   ]
  },
  {
   "cell_type": "code",
   "execution_count": 15,
   "id": "ddbb2ade",
   "metadata": {},
   "outputs": [],
   "source": [
    "import json"
   ]
  },
  {
   "cell_type": "code",
   "execution_count": 33,
   "id": "10653be0",
   "metadata": {},
   "outputs": [
    {
     "data": {
      "text/plain": [
       "9"
      ]
     },
     "execution_count": 33,
     "metadata": {},
     "output_type": "execute_result"
    }
   ],
   "source": [
    "labels = list(cfps2010.child.schema['wd2']['range'].values())[5:]\n",
    "len(labels)"
   ]
  },
  {
   "cell_type": "code",
   "execution_count": 35,
   "id": "0df4705d",
   "metadata": {},
   "outputs": [
    {
     "name": "stdout",
     "output_type": "stream",
     "text": [
      "[{\"name\": \"幼儿园\", \"type\": \"bar\", \"stack\": \"total\", \"emphasis\": {\"focus\": \"series\"}, \"data\": [0, 0]}, {\"name\": \"小学\", \"type\": \"bar\", \"stack\": \"total\", \"emphasis\": {\"focus\": \"series\"}, \"data\": [19, 44]}, {\"name\": \"初中\", \"type\": \"bar\", \"stack\": \"total\", \"emphasis\": {\"focus\": \"series\"}, \"data\": [24, 113]}, {\"name\": \"高中\", \"type\": \"bar\", \"stack\": \"total\", \"emphasis\": {\"focus\": \"series\"}, \"data\": [65, 271]}, {\"name\": \"大专\", \"type\": \"bar\", \"stack\": \"total\", \"emphasis\": {\"focus\": \"series\"}, \"data\": [58, 202]}, {\"name\": \"大学本科\", \"type\": \"bar\", \"stack\": \"total\", \"emphasis\": {\"focus\": \"series\"}, \"data\": [890, 1596]}, {\"name\": \"硕士\", \"type\": \"bar\", \"stack\": \"total\", \"emphasis\": {\"focus\": \"series\"}, \"data\": [149, 74]}, {\"name\": \"博士\", \"type\": \"bar\", \"stack\": \"total\", \"emphasis\": {\"focus\": \"series\"}, \"data\": [397, 407]}, {\"name\": \"不必读书\", \"type\": \"bar\", \"stack\": \"total\", \"emphasis\": {\"focus\": \"series\"}, \"data\": [3, 5]}]\n"
     ]
    }
   ],
   "source": [
    "def create_chart_data_for_year(year):\n",
    "    def transform(dat):\n",
    "        dat = dat.value_counts().to_dict()\n",
    "        return [\n",
    "            dat[i] if i in dat else 0\n",
    "            for i in range(1,10)\n",
    "        ]\n",
    "    urban = transform(valids[year, \"urban\"])\n",
    "    rural = transform(valids[year, \"rural\"])\n",
    "    ans = [{\n",
    "          \"name\": labels[i],\n",
    "          \"type\": 'bar',\n",
    "          \"stack\": 'total',\n",
    "          \"emphasis\": {\n",
    "            \"focus\": 'series'\n",
    "          },\n",
    "          \"data\": [\n",
    "            urban[i],rural[i]\n",
    "          ]\n",
    "        } for i in range(9)]\n",
    "    print(json.dumps(ans, ensure_ascii=False))\n",
    "create_chart_data_for_year(2010)"
   ]
  },
  {
   "cell_type": "code",
   "execution_count": 36,
   "id": "1f0dddba",
   "metadata": {},
   "outputs": [
    {
     "name": "stdout",
     "output_type": "stream",
     "text": [
      "[{\"name\": \"幼儿园\", \"type\": \"bar\", \"stack\": \"total\", \"emphasis\": {\"focus\": \"series\"}, \"data\": [0, 0]}, {\"name\": \"小学\", \"type\": \"bar\", \"stack\": \"total\", \"emphasis\": {\"focus\": \"series\"}, \"data\": [9, 27]}, {\"name\": \"初中\", \"type\": \"bar\", \"stack\": \"total\", \"emphasis\": {\"focus\": \"series\"}, \"data\": [17, 79]}, {\"name\": \"高中\", \"type\": \"bar\", \"stack\": \"total\", \"emphasis\": {\"focus\": \"series\"}, \"data\": [54, 250]}, {\"name\": \"大专\", \"type\": \"bar\", \"stack\": \"total\", \"emphasis\": {\"focus\": \"series\"}, \"data\": [71, 156]}, {\"name\": \"大学本科\", \"type\": \"bar\", \"stack\": \"total\", \"emphasis\": {\"focus\": \"series\"}, \"data\": [865, 1515]}, {\"name\": \"硕士\", \"type\": \"bar\", \"stack\": \"total\", \"emphasis\": {\"focus\": \"series\"}, \"data\": [114, 86]}, {\"name\": \"博士\", \"type\": \"bar\", \"stack\": \"total\", \"emphasis\": {\"focus\": \"series\"}, \"data\": [347, 438]}, {\"name\": \"不必读书\", \"type\": \"bar\", \"stack\": \"total\", \"emphasis\": {\"focus\": \"series\"}, \"data\": [2, 17]}]\n"
     ]
    }
   ],
   "source": [
    "create_chart_data_for_year(2012)"
   ]
  },
  {
   "cell_type": "code",
   "execution_count": 37,
   "id": "9c7c3f06",
   "metadata": {},
   "outputs": [
    {
     "name": "stdout",
     "output_type": "stream",
     "text": [
      "[{\"name\": \"幼儿园\", \"type\": \"bar\", \"stack\": \"total\", \"emphasis\": {\"focus\": \"series\"}, \"data\": [0, 0]}, {\"name\": \"小学\", \"type\": \"bar\", \"stack\": \"total\", \"emphasis\": {\"focus\": \"series\"}, \"data\": [7, 27]}, {\"name\": \"初中\", \"type\": \"bar\", \"stack\": \"total\", \"emphasis\": {\"focus\": \"series\"}, \"data\": [54, 139]}, {\"name\": \"高中\", \"type\": \"bar\", \"stack\": \"total\", \"emphasis\": {\"focus\": \"series\"}, \"data\": [337, 722]}, {\"name\": \"大专\", \"type\": \"bar\", \"stack\": \"total\", \"emphasis\": {\"focus\": \"series\"}, \"data\": [188, 447]}, {\"name\": \"大学本科\", \"type\": \"bar\", \"stack\": \"total\", \"emphasis\": {\"focus\": \"series\"}, \"data\": [2172, 2913]}, {\"name\": \"硕士\", \"type\": \"bar\", \"stack\": \"total\", \"emphasis\": {\"focus\": \"series\"}, \"data\": [216, 158]}, {\"name\": \"博士\", \"type\": \"bar\", \"stack\": \"total\", \"emphasis\": {\"focus\": \"series\"}, \"data\": [334, 399]}, {\"name\": \"不必读书\", \"type\": \"bar\", \"stack\": \"total\", \"emphasis\": {\"focus\": \"series\"}, \"data\": [2, 17]}]\n"
     ]
    }
   ],
   "source": [
    "create_chart_data_for_year(2014)"
   ]
  },
  {
   "cell_type": "code",
   "execution_count": 38,
   "id": "b389d8fb",
   "metadata": {},
   "outputs": [
    {
     "name": "stdout",
     "output_type": "stream",
     "text": [
      "[{\"name\": \"幼儿园\", \"type\": \"bar\", \"stack\": \"total\", \"emphasis\": {\"focus\": \"series\"}, \"data\": [0, 0]}, {\"name\": \"小学\", \"type\": \"bar\", \"stack\": \"total\", \"emphasis\": {\"focus\": \"series\"}, \"data\": [9, 23]}, {\"name\": \"初中\", \"type\": \"bar\", \"stack\": \"total\", \"emphasis\": {\"focus\": \"series\"}, \"data\": [43, 127]}, {\"name\": \"高中\", \"type\": \"bar\", \"stack\": \"total\", \"emphasis\": {\"focus\": \"series\"}, \"data\": [333, 794]}, {\"name\": \"大专\", \"type\": \"bar\", \"stack\": \"total\", \"emphasis\": {\"focus\": \"series\"}, \"data\": [167, 260]}, {\"name\": \"大学本科\", \"type\": \"bar\", \"stack\": \"total\", \"emphasis\": {\"focus\": \"series\"}, \"data\": [2446, 3087]}, {\"name\": \"硕士\", \"type\": \"bar\", \"stack\": \"total\", \"emphasis\": {\"focus\": \"series\"}, \"data\": [211, 130]}, {\"name\": \"博士\", \"type\": \"bar\", \"stack\": \"total\", \"emphasis\": {\"focus\": \"series\"}, \"data\": [297, 362]}, {\"name\": \"不必读书\", \"type\": \"bar\", \"stack\": \"total\", \"emphasis\": {\"focus\": \"series\"}, \"data\": [4, 15]}]\n"
     ]
    }
   ],
   "source": [
    "create_chart_data_for_year(2016)"
   ]
  },
  {
   "cell_type": "code",
   "execution_count": null,
   "id": "75aaab51",
   "metadata": {},
   "outputs": [],
   "source": [
    "def create_chart_data_for_2018():\n",
    "    year = 2018\n",
    "    def transform(dat):\n",
    "        dat = dat.value_counts().to_dict()\n",
    "        return [\n",
    "            dat[i] if i in dat else 0\n",
    "            for i in range(3,10+1)\n",
    "        ]\n",
    "    urban = transform(valids[year, \"urban\"])\n",
    "    rural = transform(valids[year, \"rural\"])\n",
    "    ans = [{\n",
    "          \"name\": labels[i],\n",
    "          \"type\": 'bar',\n",
    "          \"stack\": 'total',\n",
    "          \"emphasis\": {\n",
    "            \"focus\": 'series'\n",
    "          },\n",
    "          \"data\": [\n",
    "            urban[i],rural[i]\n",
    "          ]\n",
    "        } for i in range(9)]\n",
    "    print(json.dumps(ans, ensure_ascii=False))\n",
    "create_chart_data_for_2018()"
   ]
  }
 ],
 "metadata": {
  "kernelspec": {
   "display_name": "Python 3 (ipykernel)",
   "language": "python",
   "name": "python3"
  },
  "language_info": {
   "codemirror_mode": {
    "name": "ipython",
    "version": 3
   },
   "file_extension": ".py",
   "mimetype": "text/x-python",
   "name": "python",
   "nbconvert_exporter": "python",
   "pygments_lexer": "ipython3",
   "version": "3.10.0"
  }
 },
 "nbformat": 4,
 "nbformat_minor": 5
}
