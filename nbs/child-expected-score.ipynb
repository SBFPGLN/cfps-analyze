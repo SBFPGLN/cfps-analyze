{
 "cells": [
  {
   "cell_type": "code",
   "execution_count": 2,
   "id": "6c7f414e-f068-4419-9fd3-16dce9f845dd",
   "metadata": {},
   "outputs": [],
   "source": [
    "import os\n",
    "os.chdir(\"..\")\n",
    "import sys\n",
    "sys.path.append(\"process\")"
   ]
  },
  {
   "cell_type": "code",
   "execution_count": 3,
   "id": "bcddd4a5-a389-413f-8343-90eb2f36e4f5",
   "metadata": {},
   "outputs": [],
   "source": [
    "from cfps_shell import *"
   ]
  },
  {
   "cell_type": "markdown",
   "id": "28d80404-8351-46e2-ac81-e3c4acc9015d",
   "metadata": {},
   "source": [
    "预期分数"
   ]
  },
  {
   "cell_type": "code",
   "execution_count": 4,
   "id": "24b53225-1e49-4176-a158-0bbae29dfbd4",
   "metadata": {},
   "outputs": [],
   "source": [
    "data_child = cfps2018.childproxy.data[[\"provcd18\",\"wf701\"]]"
   ]
  },
  {
   "cell_type": "code",
   "execution_count": 5,
   "id": "c38d28f6-44bd-43e2-bd09-e0c44a050aeb",
   "metadata": {},
   "outputs": [
    {
     "data": {
      "text/plain": [
       "'不知道'"
      ]
     },
     "execution_count": 5,
     "metadata": {},
     "output_type": "execute_result"
    }
   ],
   "source": [
    "get_prov(-1)"
   ]
  },
  {
   "cell_type": "code",
   "execution_count": 10,
   "id": "1da6ee0d-853f-49e5-a81b-bb9387b01290",
   "metadata": {},
   "outputs": [
    {
     "name": "stderr",
     "output_type": "stream",
     "text": [
      "/tmp/ipykernel_61737/1653682761.py:1: SettingWithCopyWarning: \n",
      "A value is trying to be set on a copy of a slice from a DataFrame.\n",
      "Try using .loc[row_indexer,col_indexer] = value instead\n",
      "\n",
      "See the caveats in the documentation: https://pandas.pydata.org/pandas-docs/stable/user_guide/indexing.html#returning-a-view-versus-a-copy\n",
      "  data_child[\"provcd18\"] = data_child[\"provcd18\"].apply(lambda x: get_prov(x))\n"
     ]
    }
   ],
   "source": [
    "data_child[\"provcd18\"] = data_child[\"provcd18\"].apply(lambda x: get_prov(x))"
   ]
  },
  {
   "cell_type": "code",
   "execution_count": 11,
   "id": "d73ca200-b41d-46d6-932d-297764ee3dc9",
   "metadata": {},
   "outputs": [
    {
     "data": {
      "text/html": [
       "<div>\n",
       "<style scoped>\n",
       "    .dataframe tbody tr th:only-of-type {\n",
       "        vertical-align: middle;\n",
       "    }\n",
       "\n",
       "    .dataframe tbody tr th {\n",
       "        vertical-align: top;\n",
       "    }\n",
       "\n",
       "    .dataframe thead th {\n",
       "        text-align: right;\n",
       "    }\n",
       "</style>\n",
       "<table border=\"1\" class=\"dataframe\">\n",
       "  <thead>\n",
       "    <tr style=\"text-align: right;\">\n",
       "      <th></th>\n",
       "      <th>provcd18</th>\n",
       "      <th>wf701</th>\n",
       "    </tr>\n",
       "  </thead>\n",
       "  <tbody>\n",
       "    <tr>\n",
       "      <th>0</th>\n",
       "      <td>河北省</td>\n",
       "      <td>-8.0</td>\n",
       "    </tr>\n",
       "    <tr>\n",
       "      <th>1</th>\n",
       "      <td>河北省</td>\n",
       "      <td>-8.0</td>\n",
       "    </tr>\n",
       "    <tr>\n",
       "      <th>2</th>\n",
       "      <td>河北省</td>\n",
       "      <td>-8.0</td>\n",
       "    </tr>\n",
       "    <tr>\n",
       "      <th>3</th>\n",
       "      <td>北京市</td>\n",
       "      <td>-8.0</td>\n",
       "    </tr>\n",
       "    <tr>\n",
       "      <th>4</th>\n",
       "      <td>山西省</td>\n",
       "      <td>-8.0</td>\n",
       "    </tr>\n",
       "    <tr>\n",
       "      <th>...</th>\n",
       "      <td>...</td>\n",
       "      <td>...</td>\n",
       "    </tr>\n",
       "    <tr>\n",
       "      <th>8730</th>\n",
       "      <td>河南省</td>\n",
       "      <td>90.0</td>\n",
       "    </tr>\n",
       "    <tr>\n",
       "      <th>8731</th>\n",
       "      <td>河北省</td>\n",
       "      <td>-8.0</td>\n",
       "    </tr>\n",
       "    <tr>\n",
       "      <th>8732</th>\n",
       "      <td>贵州省</td>\n",
       "      <td>-8.0</td>\n",
       "    </tr>\n",
       "    <tr>\n",
       "      <th>8733</th>\n",
       "      <td>湖南省</td>\n",
       "      <td>-8.0</td>\n",
       "    </tr>\n",
       "    <tr>\n",
       "      <th>8734</th>\n",
       "      <td>陕西省</td>\n",
       "      <td>-8.0</td>\n",
       "    </tr>\n",
       "  </tbody>\n",
       "</table>\n",
       "<p>8735 rows × 2 columns</p>\n",
       "</div>"
      ],
      "text/plain": [
       "     provcd18  wf701\n",
       "0         河北省   -8.0\n",
       "1         河北省   -8.0\n",
       "2         河北省   -8.0\n",
       "3         北京市   -8.0\n",
       "4         山西省   -8.0\n",
       "...       ...    ...\n",
       "8730      河南省   90.0\n",
       "8731      河北省   -8.0\n",
       "8732      贵州省   -8.0\n",
       "8733      湖南省   -8.0\n",
       "8734      陕西省   -8.0\n",
       "\n",
       "[8735 rows x 2 columns]"
      ]
     },
     "execution_count": 11,
     "metadata": {},
     "output_type": "execute_result"
    }
   ],
   "source": [
    "data_child"
   ]
  },
  {
   "cell_type": "code",
   "execution_count": 14,
   "id": "b66ad1c4-a040-468a-a2d7-fc65862b15d7",
   "metadata": {},
   "outputs": [],
   "source": [
    "valids = data_child[data_child[\"wf701\"]>0]"
   ]
  },
  {
   "cell_type": "code",
   "execution_count": 15,
   "id": "a237252c-bfa3-4c83-8a1e-31d768460f9f",
   "metadata": {},
   "outputs": [
    {
     "data": {
      "text/html": [
       "<div>\n",
       "<style scoped>\n",
       "    .dataframe tbody tr th:only-of-type {\n",
       "        vertical-align: middle;\n",
       "    }\n",
       "\n",
       "    .dataframe tbody tr th {\n",
       "        vertical-align: top;\n",
       "    }\n",
       "\n",
       "    .dataframe thead th {\n",
       "        text-align: right;\n",
       "    }\n",
       "</style>\n",
       "<table border=\"1\" class=\"dataframe\">\n",
       "  <thead>\n",
       "    <tr style=\"text-align: right;\">\n",
       "      <th></th>\n",
       "      <th>provcd18</th>\n",
       "      <th>wf701</th>\n",
       "    </tr>\n",
       "  </thead>\n",
       "  <tbody>\n",
       "    <tr>\n",
       "      <th>8</th>\n",
       "      <td>辽宁省</td>\n",
       "      <td>90.0</td>\n",
       "    </tr>\n",
       "    <tr>\n",
       "      <th>9</th>\n",
       "      <td>河北省</td>\n",
       "      <td>99.0</td>\n",
       "    </tr>\n",
       "    <tr>\n",
       "      <th>12</th>\n",
       "      <td>江西省</td>\n",
       "      <td>100.0</td>\n",
       "    </tr>\n",
       "    <tr>\n",
       "      <th>20</th>\n",
       "      <td>山东省</td>\n",
       "      <td>93.0</td>\n",
       "    </tr>\n",
       "    <tr>\n",
       "      <th>23</th>\n",
       "      <td>河南省</td>\n",
       "      <td>99.0</td>\n",
       "    </tr>\n",
       "    <tr>\n",
       "      <th>...</th>\n",
       "      <td>...</td>\n",
       "      <td>...</td>\n",
       "    </tr>\n",
       "    <tr>\n",
       "      <th>8722</th>\n",
       "      <td>河北省</td>\n",
       "      <td>90.0</td>\n",
       "    </tr>\n",
       "    <tr>\n",
       "      <th>8723</th>\n",
       "      <td>云南省</td>\n",
       "      <td>95.0</td>\n",
       "    </tr>\n",
       "    <tr>\n",
       "      <th>8725</th>\n",
       "      <td>江西省</td>\n",
       "      <td>90.0</td>\n",
       "    </tr>\n",
       "    <tr>\n",
       "      <th>8726</th>\n",
       "      <td>吉林省</td>\n",
       "      <td>100.0</td>\n",
       "    </tr>\n",
       "    <tr>\n",
       "      <th>8730</th>\n",
       "      <td>河南省</td>\n",
       "      <td>90.0</td>\n",
       "    </tr>\n",
       "  </tbody>\n",
       "</table>\n",
       "<p>5951 rows × 2 columns</p>\n",
       "</div>"
      ],
      "text/plain": [
       "     provcd18  wf701\n",
       "8         辽宁省   90.0\n",
       "9         河北省   99.0\n",
       "12        江西省  100.0\n",
       "20        山东省   93.0\n",
       "23        河南省   99.0\n",
       "...       ...    ...\n",
       "8722      河北省   90.0\n",
       "8723      云南省   95.0\n",
       "8725      江西省   90.0\n",
       "8726      吉林省  100.0\n",
       "8730      河南省   90.0\n",
       "\n",
       "[5951 rows x 2 columns]"
      ]
     },
     "execution_count": 15,
     "metadata": {},
     "output_type": "execute_result"
    }
   ],
   "source": [
    "valids"
   ]
  },
  {
   "cell_type": "code",
   "execution_count": 18,
   "id": "19dc0727-acda-44d4-a27c-b29b6d7ff14f",
   "metadata": {},
   "outputs": [
    {
     "data": {
      "text/html": [
       "<div>\n",
       "<style scoped>\n",
       "    .dataframe tbody tr th:only-of-type {\n",
       "        vertical-align: middle;\n",
       "    }\n",
       "\n",
       "    .dataframe tbody tr th {\n",
       "        vertical-align: top;\n",
       "    }\n",
       "\n",
       "    .dataframe thead th {\n",
       "        text-align: right;\n",
       "    }\n",
       "</style>\n",
       "<table border=\"1\" class=\"dataframe\">\n",
       "  <thead>\n",
       "    <tr style=\"text-align: right;\">\n",
       "      <th></th>\n",
       "      <th>wf701</th>\n",
       "    </tr>\n",
       "    <tr>\n",
       "      <th>provcd18</th>\n",
       "      <th></th>\n",
       "    </tr>\n",
       "  </thead>\n",
       "  <tbody>\n",
       "    <tr>\n",
       "      <th>上海市</th>\n",
       "      <td>89.230769</td>\n",
       "    </tr>\n",
       "    <tr>\n",
       "      <th>云南省</th>\n",
       "      <td>90.723529</td>\n",
       "    </tr>\n",
       "    <tr>\n",
       "      <th>内蒙古自治区</th>\n",
       "      <td>100.000000</td>\n",
       "    </tr>\n",
       "    <tr>\n",
       "      <th>北京市</th>\n",
       "      <td>93.800000</td>\n",
       "    </tr>\n",
       "    <tr>\n",
       "      <th>吉林省</th>\n",
       "      <td>92.704918</td>\n",
       "    </tr>\n",
       "    <tr>\n",
       "      <th>四川省</th>\n",
       "      <td>88.394286</td>\n",
       "    </tr>\n",
       "    <tr>\n",
       "      <th>天津市</th>\n",
       "      <td>93.818182</td>\n",
       "    </tr>\n",
       "    <tr>\n",
       "      <th>宁夏回族自治区</th>\n",
       "      <td>90.000000</td>\n",
       "    </tr>\n",
       "    <tr>\n",
       "      <th>安徽省</th>\n",
       "      <td>92.451613</td>\n",
       "    </tr>\n",
       "    <tr>\n",
       "      <th>山东省</th>\n",
       "      <td>92.251208</td>\n",
       "    </tr>\n",
       "    <tr>\n",
       "      <th>山西省</th>\n",
       "      <td>93.291845</td>\n",
       "    </tr>\n",
       "    <tr>\n",
       "      <th>广东省</th>\n",
       "      <td>91.367407</td>\n",
       "    </tr>\n",
       "    <tr>\n",
       "      <th>广西壮族自治区</th>\n",
       "      <td>88.993548</td>\n",
       "    </tr>\n",
       "    <tr>\n",
       "      <th>新疆维吾尔自治区</th>\n",
       "      <td>93.076923</td>\n",
       "    </tr>\n",
       "    <tr>\n",
       "      <th>江苏省</th>\n",
       "      <td>91.885417</td>\n",
       "    </tr>\n",
       "    <tr>\n",
       "      <th>江西省</th>\n",
       "      <td>89.463303</td>\n",
       "    </tr>\n",
       "    <tr>\n",
       "      <th>河北省</th>\n",
       "      <td>91.718676</td>\n",
       "    </tr>\n",
       "    <tr>\n",
       "      <th>河南省</th>\n",
       "      <td>91.870314</td>\n",
       "    </tr>\n",
       "    <tr>\n",
       "      <th>浙江省</th>\n",
       "      <td>91.675000</td>\n",
       "    </tr>\n",
       "    <tr>\n",
       "      <th>湖北省</th>\n",
       "      <td>91.924242</td>\n",
       "    </tr>\n",
       "    <tr>\n",
       "      <th>湖南省</th>\n",
       "      <td>90.814208</td>\n",
       "    </tr>\n",
       "    <tr>\n",
       "      <th>甘肃省</th>\n",
       "      <td>92.211443</td>\n",
       "    </tr>\n",
       "    <tr>\n",
       "      <th>福建省</th>\n",
       "      <td>90.500000</td>\n",
       "    </tr>\n",
       "    <tr>\n",
       "      <th>贵州省</th>\n",
       "      <td>88.870445</td>\n",
       "    </tr>\n",
       "    <tr>\n",
       "      <th>辽宁省</th>\n",
       "      <td>93.113402</td>\n",
       "    </tr>\n",
       "    <tr>\n",
       "      <th>重庆市</th>\n",
       "      <td>93.649123</td>\n",
       "    </tr>\n",
       "    <tr>\n",
       "      <th>陕西省</th>\n",
       "      <td>92.379845</td>\n",
       "    </tr>\n",
       "    <tr>\n",
       "      <th>青海省</th>\n",
       "      <td>85.000000</td>\n",
       "    </tr>\n",
       "    <tr>\n",
       "      <th>黑龙江省</th>\n",
       "      <td>91.900000</td>\n",
       "    </tr>\n",
       "  </tbody>\n",
       "</table>\n",
       "</div>"
      ],
      "text/plain": [
       "               wf701\n",
       "provcd18            \n",
       "上海市        89.230769\n",
       "云南省        90.723529\n",
       "内蒙古自治区    100.000000\n",
       "北京市        93.800000\n",
       "吉林省        92.704918\n",
       "四川省        88.394286\n",
       "天津市        93.818182\n",
       "宁夏回族自治区    90.000000\n",
       "安徽省        92.451613\n",
       "山东省        92.251208\n",
       "山西省        93.291845\n",
       "广东省        91.367407\n",
       "广西壮族自治区    88.993548\n",
       "新疆维吾尔自治区   93.076923\n",
       "江苏省        91.885417\n",
       "江西省        89.463303\n",
       "河北省        91.718676\n",
       "河南省        91.870314\n",
       "浙江省        91.675000\n",
       "湖北省        91.924242\n",
       "湖南省        90.814208\n",
       "甘肃省        92.211443\n",
       "福建省        90.500000\n",
       "贵州省        88.870445\n",
       "辽宁省        93.113402\n",
       "重庆市        93.649123\n",
       "陕西省        92.379845\n",
       "青海省        85.000000\n",
       "黑龙江省       91.900000"
      ]
     },
     "execution_count": 18,
     "metadata": {},
     "output_type": "execute_result"
    }
   ],
   "source": [
    "ans = valids.groupby(\"provcd18\").mean()\n",
    "ans"
   ]
  },
  {
   "cell_type": "code",
   "execution_count": 25,
   "id": "b973e63a-f533-4e49-b117-a28d6fe6518d",
   "metadata": {},
   "outputs": [
    {
     "data": {
      "text/plain": [
       "[{'name': '上海市', 'value': 89.23076923076923},\n",
       " {'name': '云南省', 'value': 90.7235294117647},\n",
       " {'name': '内蒙古自治区', 'value': 100.0},\n",
       " {'name': '北京市', 'value': 93.8},\n",
       " {'name': '吉林省', 'value': 92.70491803278688},\n",
       " {'name': '四川省', 'value': 88.39428571428572},\n",
       " {'name': '天津市', 'value': 93.81818181818181},\n",
       " {'name': '宁夏回族自治区', 'value': 90.0},\n",
       " {'name': '安徽省', 'value': 92.45161290322581},\n",
       " {'name': '山东省', 'value': 92.2512077294686},\n",
       " {'name': '山西省', 'value': 93.29184549356223},\n",
       " {'name': '广东省', 'value': 91.36740740740741},\n",
       " {'name': '广西壮族自治区', 'value': 88.99354838709678},\n",
       " {'name': '新疆维吾尔自治区', 'value': 93.07692307692308},\n",
       " {'name': '江苏省', 'value': 91.88541666666667},\n",
       " {'name': '江西省', 'value': 89.46330275229357},\n",
       " {'name': '河北省', 'value': 91.71867612293144},\n",
       " {'name': '河南省', 'value': 91.87031408308005},\n",
       " {'name': '浙江省', 'value': 91.675},\n",
       " {'name': '湖北省', 'value': 91.92424242424242},\n",
       " {'name': '湖南省', 'value': 90.81420765027322},\n",
       " {'name': '甘肃省', 'value': 92.21144278606965},\n",
       " {'name': '福建省', 'value': 90.5},\n",
       " {'name': '贵州省', 'value': 88.87044534412955},\n",
       " {'name': '辽宁省', 'value': 93.11340206185567},\n",
       " {'name': '重庆市', 'value': 93.64912280701755},\n",
       " {'name': '陕西省', 'value': 92.37984496124031},\n",
       " {'name': '青海省', 'value': 85.0},\n",
       " {'name': '黑龙江省', 'value': 91.9}]"
      ]
     },
     "execution_count": 25,
     "metadata": {},
     "output_type": "execute_result"
    }
   ],
   "source": [
    "[ {\"name\": k, \"value\": v } for k,v in ans.to_dict()['wf701'].items()]"
   ]
  },
  {
   "cell_type": "code",
   "execution_count": 8,
   "id": "29865332-b2a5-4b0c-b8b5-606f331cfb9f",
   "metadata": {},
   "outputs": [
    {
     "data": {
      "text/plain": [
       "{(2010, 'urban'): 0.8133509003074221,\n",
       " (2010, 'rural'): 0.43394886363636365,\n",
       " (2012, 'urban'): 0.8831168831168831,\n",
       " (2012, 'rural'): 0.6329113924050633,\n",
       " (2014, 'urban'): 0.8823529411764706,\n",
       " (2014, 'rural'): 0.7391304347826086,\n",
       " (2016, 'urban'): 0.5380710659898477,\n",
       " (2016, 'rural'): 0.5450236966824644,\n",
       " (2018, 'urban'): 0.8985507246376812,\n",
       " (2018, 'rural'): 0.7192982456140351}"
      ]
     },
     "execution_count": 8,
     "metadata": {},
     "output_type": "execute_result"
    }
   ],
   "source": [
    "ans"
   ]
  },
  {
   "cell_type": "code",
   "execution_count": 9,
   "id": "27835e43-47ca-43d5-937f-085160951277",
   "metadata": {},
   "outputs": [
    {
     "data": {
      "text/plain": [
       "3159"
      ]
     },
     "execution_count": 9,
     "metadata": {},
     "output_type": "execute_result"
    }
   ],
   "source": [
    "len(cfps[2012].child.urban[\"wf101\"])"
   ]
  },
  {
   "cell_type": "code",
   "execution_count": 10,
   "id": "94ac116c-59fb-47aa-9d26-770ad2a802e5",
   "metadata": {},
   "outputs": [
    {
     "data": {
      "text/plain": [
       "[[2010, 0.8133509003074221, 0.43394886363636365],\n",
       " [2012, 0.8831168831168831, 0.6329113924050633],\n",
       " [2014, 0.8823529411764706, 0.7391304347826086],\n",
       " [2016, 0.5380710659898477, 0.5450236966824644],\n",
       " [2018, 0.8985507246376812, 0.7192982456140351]]"
      ]
     },
     "execution_count": 10,
     "metadata": {},
     "output_type": "execute_result"
    }
   ],
   "source": [
    "[ [year, ans[year, 'urban'], ans[year, 'rural']] for year in range(2010, 2019, 2)]"
   ]
  },
  {
   "cell_type": "code",
   "execution_count": null,
   "id": "f74f7b66-e7b6-4b6e-b831-ecdac2511c02",
   "metadata": {},
   "outputs": [],
   "source": []
  }
 ],
 "metadata": {
  "kernelspec": {
   "display_name": "Python 3 (ipykernel)",
   "language": "python",
   "name": "python3"
  },
  "language_info": {
   "codemirror_mode": {
    "name": "ipython",
    "version": 3
   },
   "file_extension": ".py",
   "mimetype": "text/x-python",
   "name": "python",
   "nbconvert_exporter": "python",
   "pygments_lexer": "ipython3",
   "version": "3.10.0"
  }
 },
 "nbformat": 4,
 "nbformat_minor": 5
}
