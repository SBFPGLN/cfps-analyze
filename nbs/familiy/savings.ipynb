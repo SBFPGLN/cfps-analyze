{
 "cells": [
  {
   "cell_type": "code",
   "execution_count": 1,
   "id": "7879b6f9-ba15-4d0d-8283-c8ef7f4a8565",
   "metadata": {},
   "outputs": [],
   "source": [
    "from basic import *"
   ]
  },
  {
   "cell_type": "markdown",
   "id": "30b3004d-8123-46c6-918c-abc7b10c4578",
   "metadata": {},
   "source": [
    "计算金融资产比例\n",
    "注意去除`None`数据"
   ]
  },
  {
   "cell_type": "code",
   "execution_count": 2,
   "id": "f65f3334-34b7-4c08-9fe7-8b8e9ff0654c",
   "metadata": {},
   "outputs": [],
   "source": [
    "income_columns = ['faminc_net', 'fincome1', 'fincome1', 'fincome1', 'fincome1']\n",
    "years = ['2010', '2012', '2014', '2016', '2018']\n",
    "urbans = ['urban=1', 'urban12=1', 'urban14=1', 'urban16=1', 'urban18=1']\n",
    "rurals = ['urban=0', 'urban12=0', 'urban14=0', 'urban16=0', 'urban18=0']\n",
    "\n",
    "family_numbers = multicount('famecon')\n",
    "urban_numbers = multicount('famecon', conditions=urbans)\n",
    "rural_numbers = multicount('famecon', conditions=rurals)\n",
    "urban_incomes = [csum('famecon_'+year, income, urban) for year, income, urban in zip(years, income_columns, urbans)]\n",
    "rural_incomes = [csum('famecon_'+year, income, rural) for year, income, rural in zip(years, income_columns, rurals)]"
   ]
  },
  {
   "cell_type": "code",
   "execution_count": 3,
   "id": "b881316d-b59c-4092-82a6-e8671a7e1e53",
   "metadata": {},
   "outputs": [
    {
     "name": "stdout",
     "output_type": "stream",
     "text": [
      "[41787, 48928, 63121, 94070, 117577] [22294, 29903, 38479, 56873, 60214]\n"
     ]
    }
   ],
   "source": [
    "average_urban_incomes = [int(income / number) for income, number in zip(urban_incomes, urban_numbers)]\n",
    "average_rural_incomes = [int(income / number) for income, number in zip(rural_incomes, rural_numbers)]\n",
    "\n",
    "print(average_urban_incomes, average_rural_incomes)"
   ]
  },
  {
   "cell_type": "code",
   "execution_count": 4,
   "id": "04fd1e0b-d0fa-439e-8eeb-b332567fdde5",
   "metadata": {},
   "outputs": [],
   "source": [
    "urban_savings = [int(csum('famecon_'+year, 'savings', urban) / number) for year, urban, number in zip(years, urbans, urban_numbers)]\n",
    "rural_savings = [int(csum('famecon_'+year, 'savings', rural) / number) for year, rural, number in zip(years, rurals, rural_numbers)]"
   ]
  },
  {
   "cell_type": "code",
   "execution_count": 5,
   "id": "7348da5b-1c62-43da-9b8f-8191914739b9",
   "metadata": {},
   "outputs": [
    {
     "name": "stdout",
     "output_type": "stream",
     "text": [
      "[17226, 43435, 49391, 68218, 81498] [4172, 15789, 16952, 23361, 28640]\n"
     ]
    }
   ],
   "source": [
    "print(urban_savings, rural_savings)"
   ]
  },
  {
   "cell_type": "code",
   "execution_count": 7,
   "id": "430d8226-eac3-48c9-9b3f-906714fa9e4e",
   "metadata": {},
   "outputs": [
    {
     "name": "stdout",
     "output_type": "stream",
     "text": [
      "[7503, 9732, 77987, 97838, 117114] [301, 562, 21137, 28460, 36798]\n"
     ]
    }
   ],
   "source": [
    "urban_finances, rural_finances = [], []\n",
    "\n",
    "urban_finances.append(get('SELECT SUM(IFNULL(stock, 0) + IFNULL(funds, 0)) FROM famecon_2010 WHERE urban=1')[0][0])\n",
    "urban_finances.append(get('SELECT SUM(IFNULL(stock, 0) + IFNULL(funds, 0) + IFNULL(govbond, 0) + IFNULL(derivative, 0) + IFNULL(otherfinance, 0)) FROM famecon_2012 WHERE urban12=1')[0][0])\n",
    "urban_finances.append(get('SELECT SUM(IFNULL(finance_asset, 0) + IFNULL(financial_product, 0)) FROM famecon_2014 WHERE urban14=1')[0][0])\n",
    "urban_finances.append(get('SELECT SUM(IFNULL(finance_asset, 0)) FROM famecon_2016 WHERE urban16=1')[0][0])\n",
    "urban_finances.append(get('SELECT SUM(IFNULL(finance_asset, 0)) FROM famecon_2018 WHERE urban18=1')[0][0])\n",
    "\n",
    "rural_finances.append(get('SELECT SUM(IFNULL(stock, 0) + IFNULL(funds, 0)) FROM famecon_2010 WHERE urban=0')[0][0])\n",
    "rural_finances.append(get('SELECT SUM(IFNULL(stock, 0) + IFNULL(funds, 0) + IFNULL(govbond, 0) + IFNULL(derivative, 0) + IFNULL(otherfinance, 0)) FROM famecon_2012 WHERE urban12=0')[0][0])\n",
    "rural_finances.append(get('SELECT SUM(IFNULL(finance_asset, 0) + IFNULL(financial_product, 0)) FROM famecon_2014 WHERE urban14=0')[0][0])\n",
    "rural_finances.append(get('SELECT SUM(IFNULL(finance_asset, 0)) FROM famecon_2016 WHERE urban16=0')[0][0])\n",
    "rural_finances.append(get('SELECT SUM(IFNULL(finance_asset, 0)) FROM famecon_2018 WHERE urban18=0')[0][0])\n",
    "\n",
    "urban_average_finances = average(urban_finances, urban_numbers)\n",
    "rural_average_finances = average(rural_finances, rural_numbers)\n",
    "\n",
    "print(urban_average_finances, rural_average_finances)"
   ]
  },
  {
   "cell_type": "code",
   "execution_count": null,
   "id": "e8b5c440-801e-46ee-95e4-03230c421e4f",
   "metadata": {},
   "outputs": [],
   "source": [
    "get('SELECT SUM(IFNULL(finance_asset, 0)) FROM famecon_2014')[0]"
   ]
  },
  {
   "cell_type": "code",
   "execution_count": null,
   "id": "e1e47e7b-d7ac-4828-aa66-f6456ee25310",
   "metadata": {},
   "outputs": [],
   "source": []
  }
 ],
 "metadata": {
  "kernelspec": {
   "display_name": "Python 3 (ipykernel)",
   "language": "python",
   "name": "python3"
  },
  "language_info": {
   "codemirror_mode": {
    "name": "ipython",
    "version": 3
   },
   "file_extension": ".py",
   "mimetype": "text/x-python",
   "name": "python",
   "nbconvert_exporter": "python",
   "pygments_lexer": "ipython3",
   "version": "3.10.0"
  }
 },
 "nbformat": 4,
 "nbformat_minor": 5
}
