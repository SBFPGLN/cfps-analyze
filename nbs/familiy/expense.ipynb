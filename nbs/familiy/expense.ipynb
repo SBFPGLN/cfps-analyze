{
 "cells": [
  {
   "cell_type": "code",
   "execution_count": 1,
   "metadata": {},
   "outputs": [],
   "source": [
    "from basic import *\n",
    "import json\n",
    "\n",
    "years = [2010, 2012, 2014, 2016, 2018]\n",
    "urbans_postfix = ['', '12', '14', '16', '18']"
   ]
  },
  {
   "cell_type": "markdown",
   "metadata": {},
   "source": [
    "计算恩格尔系数(Engel Coefficient)\n",
    "\n",
    "在家庭表格中，经查阅json得，总支出为`expense`, `expense`, `fexp`, `fexp`, `fexp`，食品支出在各年均为`food`"
   ]
  },
  {
   "cell_type": "code",
   "execution_count": 2,
   "metadata": {},
   "outputs": [
    {
     "name": "stdout",
     "output_type": "stream",
     "text": [
      "[402542365.075531, 486836722.57928467, Decimal('497702764'), Decimal('571369774'), Decimal('615527031')] [496442938.26553345, 514645643.0, Decimal('682036119'), Decimal('827876736'), 907412956.0] [120780539.41347122, 186537850.45031738, 220333666.67297363, 250179096.0, 281738556.0]\n"
     ]
    }
   ],
   "source": [
    "family_numbers = multicount('famecon')\n",
    "\n",
    "rural_numbers = multicount(\n",
    "                           'famecon',\n",
    "                           conditions=\"urban{year}=0\",\n",
    "                           condition_format=['', '12', '14', '16', '18']\n",
    "                          )\n",
    "\n",
    "urban_numbers = multicount(\n",
    "    'famecon',\n",
    "    conditions='urban{year}=1',\n",
    "    condition_format=urbans_postfix\n",
    ")\n",
    "\n",
    "incs = ['faminc', 'fincome1', 'finc', 'finc', 'finc']\n",
    "exps = ['expense', 'expense', 'fexp', 'fexp', 'fexp']\n",
    "\n",
    "expenses = []\n",
    "expenses.append(csum('famecon_2010', 'expense', 'expense'))\n",
    "expenses.append(csum('famecon_2012', 'expense', 'expense'))\n",
    "expenses.append(csum('famecon_2014', 'fexp', 'fexp>0'))\n",
    "expenses.append(csum('famecon_2016', 'fexp', 'fexp>0'))\n",
    "expenses.append(csum('famecon_2018', 'fexp', 'fexp>0'))\n",
    "\n",
    "incomes = [csum('famecon_'+str(years[i]), incs[i], incs[i]+'>0') for i in range(0, 5)]\n",
    "\n",
    "foods = [csum('famecon_' + str(years[i]), 'food', 'food>0') for i in range(0, 5)]\n",
    "\n",
    "print(expenses, incomes, foods)"
   ]
  },
  {
   "cell_type": "code",
   "execution_count": 3,
   "metadata": {},
   "outputs": [
    {
     "name": "stdout",
     "output_type": "stream",
     "text": [
      "[0.30004429320329695, 0.3831630643268461, 0.4427013121288867, 0.4378584716663714, 0.4577192256565577] [0.2432918873525583, 0.36245881605630803, 0.3230527834743216, 0.30219365410456467, 0.3104854896958293]\n"
     ]
    }
   ],
   "source": [
    "engels = [food / float(expense) for food, expense in zip(foods, expenses)]\n",
    "\n",
    "engels2 = [food / float(income) for food, income in zip(foods, incomes)]\n",
    "\n",
    "print(engels, engels2)"
   ]
  },
  {
   "cell_type": "code",
   "execution_count": 4,
   "metadata": {},
   "outputs": [
    {
     "name": "stdout",
     "output_type": "stream",
     "text": [
      "[161285654, 200781361, 209061906, 200682397, 217168141] [48504844, 86710937, 79260579, 83170500, 93889752]\n",
      "[0.3007387377429117, 0.4318674630360734, 0.37912492293072275, 0.41443844225161414, 0.43233667501901213]\n",
      "[241256710, 279227030, 284431288, 353659495, 389373698] [72275695, 97961413, 139095367, 159427796, 183601404]\n",
      "[0.2995800406960702, 0.3508306950082877, 0.48902976876439835, 0.45079461531210974, 0.47153006210501663]\n"
     ]
    }
   ],
   "source": [
    "# urban\n",
    "\n",
    "rural_expenses = [int(csum('famecon_'+str(years[i]), exps[i], exps[i]+'>0 and urban' + urbans_postfix[i] + '=0')) for i in range(0, 5)]\n",
    "rural_foods = [int(csum('famecon_' + str(years[i]), 'food', 'food>0 and urban' + urbans_postfix[i] + '=0')) for i in range(5)]\n",
    "rural_engels = [food / expense for food, expense in zip(rural_foods, rural_expenses)]\n",
    "\n",
    "urban_expenses = [int(csum('famecon_'+str(years[i]), exps[i], exps[i]+'>0 and urban' + urbans_postfix[i] + '=1')) for i in range(0, 5)]\n",
    "urban_foods = [int(csum('famecon_' + str(years[i]), 'food', 'food>0 and urban' + urbans_postfix[i] + '=1')) for i in range(5)]\n",
    "urban_engels = [food / expense for food, expense in zip(urban_foods, urban_expenses)]\n",
    "\n",
    "print(rural_expenses, rural_foods)\n",
    "print(rural_engels)\n",
    "print(urban_expenses, urban_foods)\n",
    "print(urban_engels)"
   ]
  },
  {
   "cell_type": "markdown",
   "metadata": {},
   "source": [
    "计算收入，各年总收入的列名（属性名）分别为：`faminc`,`fincome1`,`finc`,`finc`,`finc`\n",
    "\n",
    "利用收入和支出可以计算收支比"
   ]
  },
  {
   "cell_type": "code",
   "execution_count": 5,
   "metadata": {},
   "outputs": [
    {
     "name": "stdout",
     "output_type": "stream",
     "text": [
      "total incomes:\n",
      "[496442938, 514645643, 682036119, 827876736, 907412956]\n",
      "r1: urban and rural, r2: incomes and expenses:\n",
      "[303118699, 296017975, 405938343, 505856044, 594606412] [193324239, 213092286, 270869862, 294599121, 297483406]\n",
      "[241256710, 279227030, 284431288, 353659495, 389373698] [161285654, 200781361, 209061906, 200682397, 217168141]\n",
      "average incomes and expenses\n",
      "['42675', '48929', '59794', '73132', '82060'] ['25127', '29903', '38465', '43438', '44059']\n",
      "['33965', '46153', '41896', '51129', '53736'] ['20963', '28176', '29688', '29590', '32164']\n",
      "ratios, total, urban and rural\n",
      "[1.2332687962094373, 1.0571216572845663, 1.3703683570461345, 1.4489333767242647, 1.4742048850816432]\n",
      "[1.20, 1.06, 1.30, 1.47, 1.37]\n",
      "[1.26, 1.06, 1.43, 1.43, 1.53]\n"
     ]
    }
   ],
   "source": [
    "incomes = [int(csum('famecon_'+str(years[i]), incs[i], incs[i] + '>0')) for i in range(0,5)]\n",
    "\n",
    "print('total incomes:')\n",
    "print(incomes)\n",
    "\n",
    "urban_incomes = [int(csum('famecon_'+str(years[i]), incs[i], urban_cond(i))) for i in range(0, 5)]\n",
    "\n",
    "rural_incomes = [int(csum('famecon_' + str(years[i]), incs[i], urban_cond(i, is_urban=False))) for i in range(0, 5)]\n",
    "\n",
    "print('r1: urban and rural, r2: incomes and expenses:')\n",
    "print(urban_incomes, rural_incomes)\n",
    "print(urban_expenses, rural_expenses)\n",
    "\n",
    "print('average incomes and expenses')\n",
    "print(ratio(urban_incomes, urban_numbers, '.0f'), ratio(rural_incomes, rural_numbers, '.0f'))\n",
    "print(ratio(urban_expenses, urban_numbers, '.0f'), ratio(rural_expenses, rural_numbers, '.0f'))\n",
    "\n",
    "# ie_ratios for the ratio of incomes and expenses.\n",
    "ie_ratios = [float(income / expense) for income, expense in zip(incomes, expenses)]\n",
    "urban_ie_ratios = ratio(rural_incomes, rural_expenses)\n",
    "rural_ie_ratios = ratio(urban_incomes, urban_expenses)\n",
    "\n",
    "print('ratios, total, urban and rural')\n",
    "myprint(ie_ratios)\n",
    "print(repr(urban_ie_ratios).replace('\\'',''))\n",
    "myprint(rural_ie_ratios)\n",
    "     "
   ]
  },
  {
   "cell_type": "markdown",
   "metadata": {},
   "source": [
    "以下计算一些消费性支出，属性列用`expenses_list`储存\n",
    "\n",
    "这些属性列分布对应：食品、衣服、居住、日用品、医疗保健、交通、文教娱乐、其他支出。\n",
    "\n",
    "计算消费比例，化成百分数。"
   ]
  },
  {
   "cell_type": "code",
   "execution_count": 14,
   "metadata": {},
   "outputs": [
    {
     "name": "stdout",
     "output_type": "stream",
     "text": [
      "[25338.31, 3921.81, 12209.89, 11279.43, 6624.12, 6207.07, 8647.46, 1756.77]\n",
      "[13905.47, 2292.99, 7849.68, 6783.63, 5677.98, 4458.00, 4327.68, 689.10]\n",
      "[{'value': 10175.38, 'name': '食品'}, {'value': 1582.66, 'name': '衣服'}, {'value': 2460.22, 'name': '居住'}, {'value': 3716.38, 'name': '日用品'}, {'value': 3765.21, 'name': '医疗保健'}, {'value': 4216.56, 'name': '交通'}, {'value': 4176.03, 'name': '文教娱乐'}, {'value': 689.83, 'name': '其他支出'}]\n",
      "[{'value': 6304.24, 'name': '食品'}, {'value': 767.54, 'name': '衣服'}, {'value': 937.18, 'name': '居住'}, {'value': 1966.84, 'name': '日用品'}, {'value': 3141.09, 'name': '医疗保健'}, {'value': 2300.2, 'name': '交通'}, {'value': 2421.02, 'name': '文教娱乐'}, {'value': 910.24, 'name': '其他支出'}]\n",
      "[{'value': 25338.31, 'name': '食品'}, {'value': 3921.81, 'name': '衣服'}, {'value': 12209.89, 'name': '居住'}, {'value': 11279.43, 'name': '日用品'}, {'value': 6624.12, 'name': '医疗保健'}, {'value': 6207.07, 'name': '交通'}, {'value': 8647.46, 'name': '文教娱乐'}, {'value': 1756.77, 'name': '其他支出'}]\n",
      "[{'value': 13905.47, 'name': '食品'}, {'value': 2292.99, 'name': '衣服'}, {'value': 7849.68, 'name': '居住'}, {'value': 6783.63, 'name': '日用品'}, {'value': 5677.98, 'name': '医疗保健'}, {'value': 4458.0, 'name': '交通'}, {'value': 4327.68, 'name': '文教娱乐'}, {'value': 689.1, 'name': '其他支出'}]\n"
     ]
    }
   ],
   "source": [
    "expenses_list = ['food', 'dress', 'house', 'daily', 'med', 'trco', 'eec', 'other']\n",
    "\n",
    "expenses_list_zh_cn = ['食品', '衣服', '居住', '日用品', '医疗保健', '交通', '文教娱乐', '其他支出']\n",
    "\n",
    "urban_expenses_2010 = [int(csum('famecon_2010', attr, 'urban=1')) for attr in expenses_list]\n",
    "rural_expenses_2010 = [int(csum('famecon_2010', attr, 'urban=0')) for attr in expenses_list]\n",
    "\n",
    "urban_expenses_2018 = [int(csum('famecon_2018', attr, 'urban18=1')) for attr in expenses_list]\n",
    "rural_expenses_2018 = [int(csum('famecon_2018', attr, 'urban18=0')) for attr in expenses_list]\n",
    "\n",
    "urban_average_expenses_2010 = ratio(urban_expenses_2010, urban_numbers[0])\n",
    "rural_average_expenses_2010 = ratio(rural_expenses_2010, rural_numbers[0])\n",
    "\n",
    "urban_average_expenses_2018 = ratio(urban_expenses_2018, urban_numbers[4])\n",
    "rural_average_expenses_2018 = ratio(rural_expenses_2018, rural_numbers[4])\n",
    "\n",
    "myprint(urban_average_expenses_2018)\n",
    "myprint(rural_average_expenses_2018)\n",
    "\n",
    "# 输出为echart饼图的格式\n",
    "dict_urban10 = [dict([('value', float(value)), ('name', name)]) for value, name in zip(urban_average_expenses_2010, expenses_list_zh_cn)]\n",
    "dict_rural10 = [dict([('value', float(value)), ('name', name)]) for value, name in zip(rural_average_expenses_2010, expenses_list_zh_cn)]\n",
    "dict_urban18 = [dict([('value', float(value)), ('name', name)]) for value, name in zip(urban_average_expenses_2018, expenses_list_zh_cn)]\n",
    "dict_rural18 = [dict([('value', float(value)), ('name', name)]) for value, name in zip(rural_average_expenses_2018, expenses_list_zh_cn)]\n",
    "print(dict_urban10)\n",
    "print(dict_rural10)\n",
    "print(dict_urban18)\n",
    "print(dict_rural18)"
   ]
  },
  {
   "cell_type": "code",
   "execution_count": null,
   "metadata": {},
   "outputs": [],
   "source": []
  }
 ],
 "metadata": {
  "interpreter": {
   "hash": "4f4ae5c241b27ac4e5fb5ff5ab40fda87eb38990e6cc1cb83f2a7c2409c3ffaa"
  },
  "kernelspec": {
   "display_name": "Python 3 (ipykernel)",
   "language": "python",
   "name": "python3"
  },
  "language_info": {
   "codemirror_mode": {
    "name": "ipython",
    "version": 3
   },
   "file_extension": ".py",
   "mimetype": "text/x-python",
   "name": "python",
   "nbconvert_exporter": "python",
   "pygments_lexer": "ipython3",
   "version": "3.10.0"
  }
 },
 "nbformat": 4,
 "nbformat_minor": 4
}
