{
 "cells": [
  {
   "cell_type": "code",
   "execution_count": null,
   "metadata": {},
   "outputs": [],
   "source": [
    "from basic import cursor, get, count, multicount"
   ]
  },
  {
   "cell_type": "markdown",
   "metadata": {},
   "source": [
    "以下引入数据，`family_numbers`为各年总家庭数，`rural_numbers`为各年样本中的农村总数，"
   ]
  },
  {
   "cell_type": "code",
   "execution_count": null,
   "metadata": {},
   "outputs": [],
   "source": [
    "family_numbers = multicount('famecon')\n",
    "\n",
    "rural_numbers = multicount(\n",
    "    'famecon',\n",
    "    conditions=\"urban{year}=0\",\n",
    "    condition_format=['', '12', '14', '16', '18']\n",
    "    )\n",
    "\n",
    "rural_agri_numbers = multicount(\n",
    "    'famecon',\n",
    "    conditions=[\n",
    "        'urban=0 and fk1=1',\n",
    "        'urban12=0 and fk1l=1',\n",
    "        'urban14=0 and fk1l=1',\n",
    "        'urban16=0 and fk1l=1',\n",
    "        'urban18=0 and fk1l=1'\n",
    "    ]\n",
    ")"
   ]
  },
  {
   "cell_type": "markdown",
   "metadata": {},
   "source": [
    "计算农村从事农业的比例："
   ]
  },
  {
   "cell_type": "code",
   "execution_count": null,
   "metadata": {},
   "outputs": [],
   "source": [
    "rural_agri_ratios = [b/a for a, b in zip(rural_numbers, rural_agri_numbers)]"
   ]
  }
 ],
 "metadata": {
  "language_info": {
   "name": "python"
  },
  "orig_nbformat": 4
 },
 "nbformat": 4,
 "nbformat_minor": 2
}
