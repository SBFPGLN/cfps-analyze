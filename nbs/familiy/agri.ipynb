{
 "cells": [
  {
   "cell_type": "code",
   "execution_count": 3,
   "metadata": {},
   "outputs": [],
   "source": [
    "from basic import *"
   ]
  },
  {
   "cell_type": "markdown",
   "metadata": {},
   "source": [
    "以下引入数据，`family_numbers`为各年总家庭数，`rural_numbers`为各年样本中的农村总数，"
   ]
  },
  {
   "cell_type": "code",
   "execution_count": 4,
   "metadata": {},
   "outputs": [],
   "source": [
    "family_numbers = multicount('famecon')\n",
    "\n",
    "agri_numbers = multicount(\n",
    "    'famecon',\n",
    "    conditions=['fk1=1'] + ['fk1l=1'] * 4)\n",
    "\n",
    "rural_numbers = multicount(\n",
    "    'famecon',\n",
    "    conditions=\"urban{year}=0\",\n",
    "    condition_format=['', '12', '14', '16', '18']\n",
    "    )\n",
    "\n",
    "rural_agri_numbers = multicount(\n",
    "    'famecon',\n",
    "    conditions=[\n",
    "        'urban=0 and fk1=1',\n",
    "        'urban12=0 and fk1l=1',\n",
    "        'urban14=0 and fk1l=1',\n",
    "        'urban16=0 and fk1l=1',\n",
    "        'urban18=0 and fk1l=1'\n",
    "    ]\n",
    ")"
   ]
  },
  {
   "cell_type": "markdown",
   "metadata": {},
   "source": [
    "计算农村从事农业的百分比和从事农业的人口在农村的比例："
   ]
  },
  {
   "cell_type": "code",
   "execution_count": 5,
   "metadata": {},
   "outputs": [
    {
     "name": "stdout",
     "output_type": "stream",
     "text": [
      "['79.71', '78.63', '73.23', '73.18', '69.24'] ['78.65', '77.21', '75.67', '74.23', '74.78']\n"
     ]
    }
   ],
   "source": [
    "agri_ratios_in_rural = [format(100*b/a, '.2f') for a, b in zip(rural_numbers, rural_agri_numbers)]\n",
    "\n",
    "rural_ratios_in_agri = [format(100*a/b, '.2f') for a, b in zip(rural_agri_numbers, agri_numbers)]\n",
    "\n",
    "print(agri_ratios_in_rural, rural_ratios_in_agri)"
   ]
  },
  {
   "cell_type": "markdown",
   "metadata": {},
   "source": [
    "计算2018年农业花费\n",
    "（从事农业的家庭在各个部分的花费）\n",
    "`fl3`为是否从事种植业林业，`fl6`为是否从事牧渔业\n",
    "\n",
    "需要稍微清洗一下数据：如果出现-1，或者5项均为0，判定为无效数据"
   ]
  },
  {
   "cell_type": "code",
   "execution_count": 33,
   "metadata": {},
   "outputs": [],
   "source": [
    "plant_columns = [\"fl501\", \"fl502\", \"fl503\", \"fl504\", \"fl505\"]\n",
    "plant_columns_zh = [\"种子化肥农药费\", \"雇工费\", \"机器租赁费\", \"灌溉费\", \"其他费用\"]\n",
    "animal_columns = [\"fl801\", \"fl802\", \"fl803\", \"fl804\", \"fl805\"]\n",
    "animal_columns_zh = [\"种畜鱼苗费\", \"雇工费\", \"机器租赁费\", \"饲料费\", \"其他花费\"]\n",
    "\n",
    "plant_data = get('SELECT fl501, fl502, fl503, fl504, fl505 FROM famecon_2018 WHERE fl3 = 1')\n",
    "animal_data = get('SELECT fl801, fl802, fl803, fl804, fl805 FROM famecon_2018 WHERE fl3 = 1')\n",
    "\n",
    "# 清洗数据：\n",
    "indexes = []\n",
    "def map_condition(family):\n",
    "    # return  not (family[0] == -1 or family[0] == -8 \\\n",
    "    # or family[1] == -1 or family[1] == -8 \\\n",
    "    # or family[2] == -1 or family[2] == -8 \\\n",
    "    # or family[3] == -1 or family[3] == -8 \\\n",
    "    # or family[4] == -1 or family[4] == -8 \\\n",
    "    # or family == (0, 0, 0, 0, 0))\n",
    "    family = list(family)\n",
    "    for i in range(len(family)):\n",
    "        # 将-1， -8转换为0\n",
    "        if family[i] is None or family[i]<0:\n",
    "            family[i]=0\n",
    "    return tuple(family)\n",
    "\n",
    "def filter_cond(family):\n",
    "    # 过滤全为0的数值\n",
    "    return family != (0, 0, 0, 0, 0)\n",
    "\n",
    "plant_data_washed = list(filter(filter_cond, map(map_condition, plant_data)))\n",
    "animal_data_washed = list(filter(filter_cond, map(map_condition, animal_data)))"
   ]
  },
  {
   "cell_type": "markdown",
   "metadata": {},
   "source": [
    "绘制箱线图，箱线图需要的是最小值、1/4分位点、中位数、3/4分位点和最大值"
   ]
  },
  {
   "cell_type": "markdown",
   "metadata": {},
   "source": [
    "def get_boxplot_params(data):\n",
    "    n = len(data)\n",
    "    data.sort()\n",
    "    # Python从0开始计数，0,1,2,...,n的中间数是(n-1)/2\n",
    "    median = data[int((n-1)/2)] if n%2==1 else (data[int(n/2)] + data[int((n-1)/2)])/2\n",
    "    q1 = data[int(n/4)]\n",
    "    q3 = data[int(3*n/4)]\n",
    "    iqr = q3 - q1\n",
    "    up = q3 + 1.5 * iqr\n",
    "    down = q1 - 1.5 * iqr if q1 - 1.5 * iqr > 0 else 0\n",
    "    return [down, q1, median, q3, up]\n",
    "\n",
    "def transpose(data):\n",
    "    '''\n",
    "    将二维数组转置\n",
    "    '''\n",
    "    transposed = list(map(list, zip(*data)))\n",
    "    return transposed\n",
    "\n",
    "plant_boxplot = []\n",
    "for data in transpose(plant_data_washed):\n",
    "    plant_boxplot.append(get_boxplot_params(data))\n",
    "    \n",
    "animal_boxplot = []\n",
    "for data in transpose(animal_data_washed):\n",
    "    animal_boxplot.append(get_boxplot_params(data))\n",
    "\n",
    "print('The plant is: ',plant_boxplot)\n",
    "print('The animal is ', animal_boxplot)"
   ]
  },
  {
   "cell_type": "markdown",
   "metadata": {},
   "source": [
    "绘制条形图，各组取平均"
   ]
  },
  {
   "cell_type": "code",
   "execution_count": 45,
   "metadata": {},
   "outputs": [
    {
     "name": "stdout",
     "output_type": "stream",
     "text": [
      "[4651, 924, 581, 401, 468] [2996, 245, 60, 4149, 649]\n"
     ]
    }
   ],
   "source": [
    "def transpose(data):\n",
    "    '''\n",
    "    将二维数组转置\n",
    "    '''\n",
    "    transposed = list(map(list, zip(*data)))\n",
    "    return transposed\n",
    "\n",
    "plant_average = [int(sum(row)/len(row)) for row in transpose(plant_data_washed)]\n",
    "animal_average = [int(sum(row)/len(row)) for row in transpose(animal_data_washed)]\n",
    "\n",
    "print(plant_average, animal_average)"
   ]
  },
  {
   "cell_type": "markdown",
   "metadata": {},
   "source": [
    "同理，计算2014年的数据"
   ]
  },
  {
   "cell_type": "code",
   "execution_count": 46,
   "metadata": {},
   "outputs": [
    {
     "name": "stdout",
     "output_type": "stream",
     "text": [
      "[4144, 641, 428, 298, 353] [2528, 120, 20, 5064, 351]\n"
     ]
    }
   ],
   "source": [
    "plant_data_2014 = get('SELECT fl501, fl502, fl503, fl504, fl505 FROM famecon_2014 WHERE fl3 = 1')\n",
    "animal_data_2014 = get('SELECT fl801, fl802, fl803, fl804, fl805 FROM famecon_2014 WHERE fl3 = 1')\n",
    "\n",
    "plant_data_2014\n",
    "# 清洗数据：\n",
    "plant_data_washed_2014 = list(filter(filter_cond, map(map_condition, plant_data_2014)))\n",
    "animal_data_washed_2014 = list(filter(filter_cond, map(map_condition, animal_data_2014)))\n",
    "\n",
    "plant_average14 = [int(sum(row)/len(row)) for row in transpose(plant_data_washed_2014)]\n",
    "animal_average14 = [int(sum(row)/len(row)) for row in transpose(animal_data_washed_2014)]\n",
    "\n",
    "print(plant_average14, animal_average14)"
   ]
  },
  {
   "cell_type": "markdown",
   "metadata": {},
   "source": [
    "同理2016年："
   ]
  },
  {
   "cell_type": "code",
   "execution_count": 37,
   "metadata": {},
   "outputs": [
    {
     "name": "stdout",
     "output_type": "stream",
     "text": [
      "[4728, 732, 592, 335, 381] [3933, 120, 24, 4958, 404]\n"
     ]
    }
   ],
   "source": [
    "plant_data16 = get('SELECT fl501, fl502, fl503, fl504, fl505 FROM famecon_2016 WHERE fl3 = 1')\n",
    "animal_data16 = get('SELECT fl801, fl802, fl803, fl804, fl805 FROM famecon_2016 WHERE fl3 = 1')\n",
    "\n",
    "plant_data16\n",
    "# 清洗数据：\n",
    "plant_data_washed16 = list(filter(filter_cond, map(map_condition, plant_data16)))\n",
    "animal_data_washed16 = list(filter(filter_cond, map(map_condition, animal_data16)))\n",
    "\n",
    "plant_average16 = [int(sum(row)/len(row)) for row in transpose(plant_data_washed16)]\n",
    "animal_average16 = [int(sum(row)/len(row)) for row in transpose(animal_data_washed16)]\n",
    "\n",
    "print(plant_average16, animal_average16)"
   ]
  },
  {
   "cell_type": "markdown",
   "metadata": {},
   "source": [
    "2012年的数据稍微麻烦一些，由于机器租赁费和灌溉费没有分类，我们需要结合后3年数据将它们做分解。\n",
    "同样地，畜牧业渔业直接缺失了机器租赁费，也需要做分解"
   ]
  },
  {
   "cell_type": "code",
   "execution_count": 39,
   "metadata": {},
   "outputs": [
    {
     "name": "stdout",
     "output_type": "stream",
     "text": [
      "0.606467045494215 0.06558534674998019\n"
     ]
    }
   ],
   "source": [
    "plant_machine_cost_ratios = [pa[2]/(pa[2]+pa[3]) for pa in [plant_average14, plant_average16, plant_average]]\n",
    "animal_machine_cost_ratios = [aa[2]/(aa[2]+aa[4]) for aa in [animal_average14, animal_average16, animal_average]]\n",
    "\n",
    "plant_machine_ratio = sum(plant_machine_cost_ratios)/len(plant_machine_cost_ratios)\n",
    "animal_machine_ratio = sum(animal_machine_cost_ratios)/len(animal_machine_cost_ratios)\n",
    "\n",
    "print(plant_machine_ratio, animal_machine_ratio)"
   ]
  },
  {
   "cell_type": "code",
   "execution_count": 44,
   "metadata": {},
   "outputs": [
    {
     "name": "stdout",
     "output_type": "stream",
     "text": [
      "[2956, 578, 214, 139, 218] [475, 0, 10, 354, 63]\n"
     ]
    }
   ],
   "source": [
    "plant_data12 = get('SELECT fl401, fl402, fl403, fl404 FROM famecon_2012 WHERE fl2 = 1')\n",
    "animal_data12 = get('SELECT fl901, fl902, fl903, fl904 FROM famecon_2012 WHERE fl7 = 1')\n",
    "\n",
    "# 清洗数据：\n",
    "plant_data_washed12 = list(filter(filter_cond, map(map_condition, plant_data12)))\n",
    "animal_data_washed12 = list(filter(filter_cond, map(map_condition, animal_data12)))\n",
    "\n",
    "plant_average12 = [int(sum(row)/len(row)) for row in transpose(plant_data_washed12)]\n",
    "animal_average12 = [int(sum(row)/len(row)) for row in transpose(animal_data_washed12)]\n",
    "\n",
    "plant_average12_fix = [plant_average12[0], plant_average12[1], int(plant_average12[2] * plant_machine_ratio), int(plant_average12[2] * (1 - plant_machine_ratio)), plant_average12[3] ]\n",
    "animal_average12_fix = [animal_average12[0], animal_average12[1], int(animal_average12[3] * animal_machine_ratio), plant_average12[2], int(animal_average12[3] * (1 - plant_machine_ratio)) ]\n",
    "\n",
    "print(plant_average12_fix, animal_average12_fix)"
   ]
  },
  {
   "cell_type": "code",
   "execution_count": null,
   "metadata": {},
   "outputs": [],
   "source": []
  }
 ],
 "metadata": {
  "kernelspec": {
   "display_name": "Python 3 (ipykernel)",
   "language": "python",
   "name": "python3"
  },
  "language_info": {
   "codemirror_mode": {
    "name": "ipython",
    "version": 3
   },
   "file_extension": ".py",
   "mimetype": "text/x-python",
   "name": "python",
   "nbconvert_exporter": "python",
   "pygments_lexer": "ipython3",
   "version": "3.10.0"
  }
 },
 "nbformat": 4,
 "nbformat_minor": 4
}
